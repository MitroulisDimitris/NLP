{
 "cells": [
  {
   "cell_type": "markdown",
   "metadata": {},
   "source": [
    "## Email Spam detection using Naive Bayes\n",
    "\n",
    "1. Prior: P(y)\n",
    "2. Posterior (result) : P(y|x)\n",
    "3. Classes: In case of syptoms: mild,severe (All the y's)"
   ]
  }
 ],
 "metadata": {
  "language_info": {
   "name": "python"
  }
 },
 "nbformat": 4,
 "nbformat_minor": 2
}
