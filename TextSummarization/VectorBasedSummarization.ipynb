{
 "cells": [
  {
   "cell_type": "markdown",
   "metadata": {},
   "source": [
    "### Text Summarization using TF-IDF\n",
    "1. Split the document into sentences\n",
    "2. Score each sentence on 'descriptiveness' \n",
    "3. Rank sentences on the score\n",
    "4. Select top scored sententes to form summary"
   ]
  },
  {
   "cell_type": "code",
   "execution_count": null,
   "metadata": {},
   "outputs": [],
   "source": [
    "# import stuff\n"
   ]
  }
 ],
 "metadata": {
  "language_info": {
   "name": "python"
  }
 },
 "nbformat": 4,
 "nbformat_minor": 2
}
