{
 "cells": [
  {
   "cell_type": "markdown",
   "metadata": {},
   "source": [
    "### Using Text rank to preform text summarization\n",
    "\n",
    "- Text rank based summarization is essentially the same as Vector based but with a different ranking algorithm\n",
    "\n",
    "- **Text rank** is based on google's **Page rank** algorithm used to rank a webpage's poluparity.\n",
    "\n",
    "#### Steps\n",
    "1. Split the document into sentences\n",
    "2. "
   ]
  }
 ],
 "metadata": {
  "language_info": {
   "name": "python"
  }
 },
 "nbformat": 4,
 "nbformat_minor": 2
}
