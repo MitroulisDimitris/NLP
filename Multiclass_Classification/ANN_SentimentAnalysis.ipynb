{
  "cells": [
    {
      "cell_type": "code",
      "execution_count": null,
      "metadata": {
        "colab": {
          "base_uri": "https://localhost:8080/"
        },
        "id": "csmbbLpEVOmq",
        "outputId": "bc936adf-940b-4d76-c09f-8131c6d01f52"
      },
      "outputs": [],
      "source": [
        "!wget -nc https://lazyprogrammer.me/course_files/AirlineTweets.csv"
      ]
    },
    {
      "cell_type": "code",
      "execution_count": 1,
      "metadata": {
        "id": "H0fzIZfUVOmy"
      },
      "outputs": [],
      "source": [
        "# import libraries\n",
        "import pandas as pd\n",
        "import numpy as np\n",
        "import seaborn as sns\n",
        "import matplotlib.pyplot as plt\n",
        "import matplotlib.pyplot as plt\n",
        "import tensorflow as tf\n",
        "from sklearn.model_selection import train_test_split\n",
        "from sklearn.metrics import accuracy_score\n",
        "from sklearn.feature_extraction.text import TfidfVectorizer\n",
        "from sklearn.metrics import f1_score, roc_auc_score, roc_curve, auc, confusion_matrix\n",
        "from sklearn.utils.class_weight import compute_class_weight\n",
        "\n",
        "\n",
        "from tensorflow.keras.layers import Dense,Input\n",
        "from tensorflow.keras.models import Model\n"
      ]
    },
    {
      "cell_type": "code",
      "execution_count": null,
      "metadata": {
        "colab": {
          "base_uri": "https://localhost:8080/"
        },
        "id": "Rlmq8jvCVOm8",
        "outputId": "b04ff575-1b99-4f32-f266-40a6bc1377d4"
      },
      "outputs": [],
      "source": [
        "threshold = 0.5 # confidence in sentiment threshold\n",
        "\n",
        "def process_string(s):\n",
        "    # Split the string on spaces\n",
        "    words = s.split()\n",
        "\n",
        "    # Remove first element\n",
        "    words.pop(0)\n",
        "\n",
        "    # Rejoin the list into a string\n",
        "    return ' '.join(words)\n",
        "\n",
        "\n",
        "df = pd.read_csv('AirlineTweets.csv',delimiter=\",\")\n",
        "df = df[df['airline_sentiment_confidence']>threshold]\n",
        "df = df[['airline_sentiment','text']]\n",
        "\n",
        "# Apply the function to each row in the DataFrame\n",
        "df['text'] = df['text'].apply(process_string)\n",
        "\n",
        "sentiment = df[\"airline_sentiment\"]\n",
        "text = df[\"text\"]\n",
        "\n",
        "\n",
        "\n",
        "## Convert classes to numbers\n",
        "target_map = {\"positive\":1,\"negative\":0,\"neutral\":2}\n",
        "df['target'] = df['airline_sentiment'].map(target_map)\n",
        "\n",
        "\n",
        "# Display the first few rows of the DataFrame\n",
        "print(df.head())\n",
        "print(f\"Number of samples: {len(df)}\")\n",
        "\n"
      ]
    },
    {
      "cell_type": "code",
      "execution_count": null,
      "metadata": {
        "colab": {
          "base_uri": "https://localhost:8080/",
          "height": 448
        },
        "id": "jWEqX-HMVOm_",
        "outputId": "57bc2461-4e23-450d-b6ac-c4fa40ad351b"
      },
      "outputs": [],
      "source": [
        "# Check for class imbalance (HUUGE)\n",
        "\n",
        "df['airline_sentiment'].hist()"
      ]
    },
    {
      "cell_type": "code",
      "execution_count": null,
      "metadata": {
        "colab": {
          "base_uri": "https://localhost:8080/",
          "height": 304
        },
        "id": "GDIc1CB4VOnE",
        "outputId": "7c856655-f485-4c2a-bf2d-977a664f6b1b"
      },
      "outputs": [],
      "source": [
        "# df = pd.read_csv('AirlineTweets.csv',delimiter=\",\")\n",
        "\n",
        "df_train,df_test = train_test_split(df, test_size=0.3, random_state=42)\n",
        "\n",
        "tfidf_vectorizer = TfidfVectorizer(lowercase=True,stop_words='english')\n",
        "\n",
        "Xtrain = tfidf_vectorizer.fit_transform(df_train['text'])\n",
        "Xtest = tfidf_vectorizer.transform(df_test['text'])\n",
        "\n",
        "Ytrain = df_train['target']\n",
        "Ytest = df_test['target']\n",
        "\n",
        "# compute class weight to counteract class imbalannce\n",
        "class_weights = compute_class_weight(class_weight='balanced', classes=np.unique(Ytrain), y=Ytrain)\n",
        "class_weight_dict = {i: weight for i, weight in enumerate(class_weights)}\n",
        "\n",
        "\n",
        "# Number of classes\n",
        "K = df['target'].value_counts().value_counts().sum()\n",
        "print(f\"Num of classes: {K}\")\n",
        "\n",
        "# input dimensions\n",
        "D = Xtrain.shape[1]\n",
        "print(f\"Iput D {D}\")\n",
        "\n",
        "# tensorflow needs array in non sparse form\n",
        "Xtrain = Xtrain.toarray()\n",
        "Xtest = Xtest.toarray()\n",
        "\n",
        "\n",
        "# These seem to be helping, not sure why\n",
        "# Convert to NumPy arrays if they are not already\n",
        "Ytrain = Ytrain.to_numpy() if hasattr(Ytrain, \"to_numpy\") else Ytrain\n",
        "Ytest = Ytest.to_numpy() if hasattr(Ytest, \"to_numpy\") else Ytest\n",
        "\n",
        "\n",
        "# Build model\n",
        "i = Input(shape=(D,))\n",
        "x = Dense(500,activation='relu')(i)\n",
        "x = Dense(300,activation='relu')(x)\n",
        "x = Dense(K,activation='softmax')(x) # softmax in loss\n",
        "\n",
        "model = Model(i,x)\n",
        "model.summary()"
      ]
    },
    {
      "cell_type": "code",
      "execution_count": null,
      "metadata": {
        "colab": {
          "base_uri": "https://localhost:8080/",
          "height": 469
        },
        "id": "E1MD5wwDVOnG",
        "outputId": "98347c8a-7a9b-4642-f1cf-821c5f9504ab"
      },
      "outputs": [],
      "source": [
        "model.compile(\n",
        "    loss = tf.keras.losses.SparseCategoricalCrossentropy(from_logits=True),\n",
        "    optimizer='adam',\n",
        "    metrics=['accuracy']\n",
        "    )\n",
        "\n",
        "\n",
        "\n",
        "r = model.fit(\n",
        "    Xtrain,Ytrain,\n",
        "    validation_data=(Xtest,Ytest),\n",
        "    epochs = 7,\n",
        "    class_weight = class_weight_dict,\n",
        "    batch_size = 128\n",
        "\n",
        "\n",
        ")\n",
        "\n",
        "# plot loss/iteration\n",
        "\n",
        "plt.plot(r.history['loss'],label = 'train_loss')\n",
        "plt.plot(r.history['val_loss'],label = 'val_loss')\n",
        "plt.legend()"
      ]
    },
    {
      "cell_type": "code",
      "execution_count": null,
      "metadata": {
        "colab": {
          "base_uri": "https://localhost:8080/"
        },
        "id": "0eBwyVfnVm3c",
        "outputId": "e06a0558-a74c-4231-d8c7-1cb1314cb07e"
      },
      "outputs": [],
      "source": [
        "#Calculate AUC Score\n",
        "P_train = tf.nn.softmax(model.predict(Xtrain))\n",
        "P_test = tf.nn.softmax(model.predict(Xtest))\n",
        "\n",
        "\n",
        "print(\"Train AUC:\",roc_auc_score(Ytrain,P_train,multi_class='ovo'))\n",
        "print(\"Test AUC:\",roc_auc_score(Ytest,P_test,multi_class='ovo'))\n"
      ]
    },
    {
      "cell_type": "code",
      "execution_count": null,
      "metadata": {
        "colab": {
          "base_uri": "https://localhost:8080/"
        },
        "id": "kcbT9hp9asLr",
        "outputId": "55301f2c-ff81-4dec-a7df-eb2ece56329f"
      },
      "outputs": [],
      "source": [
        "# Sample custom text for prediction\n",
        "custom_text = [\"it was mid\", \"it was awesome\",\"worst ever\",\"best ever service \"]\n",
        "\n",
        "# Transform the custom text using the same vectorizer\n",
        "custom_text_vectorized = tfidf_vectorizer.transform(custom_text)\n",
        "custom_text_vectorized = custom_text_vectorized.toarray()\n",
        "\n",
        "# Make the prediction\n",
        "predictions = tf.nn.softmax(model.predict(custom_text_vectorized))\n",
        "\n",
        "\n",
        "# Get the class with the highest probability\n",
        "predicted_classes = np.argmax(predictions, axis=1)\n",
        "\n",
        "# Map the predicted classes to text labels\n",
        "class_labels = ['negative', 'positive', 'neutral']\n",
        "predicted_labels = [class_labels[i] for i in predicted_classes]\n",
        "\n",
        "\n",
        "\n",
        "# Display the predictions\n",
        "for text, prediction in zip(custom_text, predicted_labels):\n",
        "    print(f\"Text: {text}\\nPrediction: {prediction}\\n\")\n"
      ]
    }
  ],
  "metadata": {
    "colab": {
      "provenance": []
    },
    "kernelspec": {
      "display_name": "Python 3",
      "language": "python",
      "name": "python3"
    },
    "language_info": {
      "codemirror_mode": {
        "name": "ipython",
        "version": 3
      },
      "file_extension": ".py",
      "mimetype": "text/x-python",
      "name": "python",
      "nbconvert_exporter": "python",
      "pygments_lexer": "ipython3",
      "version": "3.12.1"
    }
  },
  "nbformat": 4,
  "nbformat_minor": 0
}
