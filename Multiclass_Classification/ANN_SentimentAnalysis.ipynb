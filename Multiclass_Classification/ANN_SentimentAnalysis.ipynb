{
  "cells": [
    {
      "cell_type": "code",
      "execution_count": 2,
      "metadata": {
        "colab": {
          "base_uri": "https://localhost:8080/"
        },
        "id": "csmbbLpEVOmq",
        "outputId": "bc936adf-940b-4d76-c09f-8131c6d01f52"
      },
      "outputs": [
        {
          "name": "stderr",
          "output_type": "stream",
          "text": [
            "--2024-09-08 20:37:00--  https://lazyprogrammer.me/course_files/AirlineTweets.csv\n",
            "Resolving lazyprogrammer.me (lazyprogrammer.me)... 2606:4700:3031::6815:17d2, 2606:4700:3030::ac43:d5a6, 104.21.23.210, ...\n",
            "Connecting to lazyprogrammer.me (lazyprogrammer.me)|2606:4700:3031::6815:17d2|:443... connected.\n",
            "HTTP request sent, awaiting response... 200 OK\n",
            "Length: 3421431 (3,3M) [text/csv]\n",
            "Saving to: 'AirlineTweets.csv'\n",
            "\n",
            "     0K .......... .......... .......... .......... ..........  1% 27,5M 0s\n",
            "    50K .......... .......... .......... .......... ..........  2% 11,4M 0s\n",
            "   100K .......... .......... .......... .......... ..........  4%  348K 3s\n",
            "   150K .......... .......... .......... .......... ..........  5% 10,9M 2s\n",
            "   200K .......... .......... .......... .......... ..........  7% 10,4M 2s\n",
            "   250K .......... .......... .......... .......... ..........  8% 13,6M 2s\n",
            "   300K .......... .......... .......... .......... .......... 10%  354K 3s\n",
            "   350K .......... .......... .......... .......... .......... 11% 9,03M 2s\n",
            "   400K .......... .......... .......... .......... .......... 13% 11,6M 2s\n",
            "   450K .......... .......... .......... .......... .......... 14% 12,7M 2s\n",
            "   500K .......... .......... .......... .......... .......... 16% 11,1M 2s\n",
            "   550K .......... .......... .......... .......... .......... 17% 1,36M 2s\n",
            "   600K .......... .......... .......... .......... .......... 19% 11,3M 1s\n",
            "   650K .......... .......... .......... .......... .......... 20% 12,7M 1s\n",
            "   700K .......... .......... .......... .......... .......... 22% 12,0M 1s\n",
            "   750K .......... .......... .......... .......... .......... 23%  534K 1s\n",
            "   800K .......... .......... .......... .......... .......... 25% 12,7M 1s\n",
            "   850K .......... .......... .......... .......... .......... 26% 33,8M 1s\n",
            "   900K .......... .......... .......... .......... .......... 28% 14,0M 1s\n",
            "   950K .......... .......... .......... .......... .......... 29% 12,6M 1s\n",
            "  1000K .......... .......... .......... .......... .......... 31% 14,8M 1s\n",
            "  1050K .......... .......... .......... .......... .......... 32% 13,4M 1s\n",
            "  1100K .......... .......... .......... .......... .......... 34% 15,3M 1s\n",
            "  1150K .......... .......... .......... .......... .......... 35% 10,6M 1s\n",
            "  1200K .......... .......... .......... .......... .......... 37% 13,1M 1s\n",
            "  1250K .......... .......... .......... .......... .......... 38% 2,29M 1s\n",
            "  1300K .......... .......... .......... .......... .......... 40% 16,4M 1s\n",
            "  1350K .......... .......... .......... .......... .......... 41% 12,8M 1s\n",
            "  1400K .......... .......... .......... .......... .......... 43% 14,8M 1s\n",
            "  1450K .......... .......... .......... .......... .......... 44% 14,3M 1s\n",
            "  1500K .......... .......... .......... .......... .......... 46%  607K 1s\n",
            "  1550K .......... .......... .......... .......... .......... 47% 11,6M 1s\n",
            "  1600K .......... .......... .......... .......... .......... 49% 43,1M 1s\n",
            "  1650K .......... .......... .......... .......... .......... 50% 15,9M 1s\n",
            "  1700K .......... .......... .......... .......... .......... 52% 26,4M 1s\n",
            "  1750K .......... .......... .......... .......... .......... 53% 17,9M 1s\n",
            "  1800K .......... .......... .......... .......... .......... 55% 27,1M 1s\n",
            "  1850K .......... .......... .......... .......... .......... 56% 20,7M 0s\n",
            "  1900K .......... .......... .......... .......... .......... 58% 21,8M 0s\n",
            "  1950K .......... .......... .......... .......... .......... 59% 16,4M 0s\n",
            "  2000K .......... .......... .......... .......... .......... 61% 19,7M 0s\n",
            "  2050K .......... .......... .......... .......... .......... 62% 21,8M 0s\n",
            "  2100K .......... .......... .......... .......... .......... 64% 20,7M 0s\n",
            "  2150K .......... .......... .......... .......... .......... 65% 21,0M 0s\n",
            "  2200K .......... .......... .......... .......... .......... 67% 21,6M 0s\n",
            "  2250K .......... .......... .......... .......... .......... 68% 19,4M 0s\n",
            "  2300K .......... .......... .......... .......... .......... 70% 21,4M 0s\n",
            "  2350K .......... .......... .......... .......... .......... 71% 17,4M 0s\n",
            "  2400K .......... .......... .......... .......... .......... 73% 22,2M 0s\n",
            "  2450K .......... .......... .......... .......... .......... 74% 19,6M 0s\n",
            "  2500K .......... .......... .......... .......... .......... 76% 22,2M 0s\n",
            "  2550K .......... .......... .......... .......... .......... 77% 20,0M 0s\n",
            "  2600K .......... .......... .......... .......... .......... 79% 22,1M 0s\n",
            "  2650K .......... .......... .......... .......... .......... 80% 21,4M 0s\n",
            "  2700K .......... .......... .......... .......... .......... 82% 21,8M 0s\n",
            "  2750K .......... .......... .......... .......... .......... 83% 15,2M 0s\n",
            "  2800K .......... .......... .......... .......... .......... 85% 21,3M 0s\n",
            "  2850K .......... .......... .......... .......... .......... 86% 22,8M 0s\n",
            "  2900K .......... .......... .......... .......... .......... 88% 20,5M 0s\n",
            "  2950K .......... .......... .......... .......... .......... 89% 22,2M 0s\n",
            "  3000K .......... .......... .......... .......... .......... 91% 19,2M 0s\n",
            "  3050K .......... .......... .......... .......... .......... 92% 23,7M 0s\n",
            "  3100K .......... .......... .......... .......... .......... 94% 20,4M 0s\n",
            "  3150K .......... .......... .......... .......... .......... 95% 15,5M 0s\n",
            "  3200K .......... .......... .......... .......... .......... 97% 22,3M 0s\n",
            "  3250K .......... .......... .......... .......... .......... 98% 21,1M 0s\n",
            "  3300K .......... .......... .......... .......... .         100% 30,2M=0,7s\n",
            "\n",
            "2024-09-08 20:37:03 (4,68 MB/s) - 'AirlineTweets.csv' saved [3421431/3421431]\n",
            "\n"
          ]
        }
      ],
      "source": [
        "!wget -nc https://lazyprogrammer.me/course_files/AirlineTweets.csv"
      ]
    },
    {
      "cell_type": "code",
      "execution_count": 9,
      "metadata": {
        "id": "H0fzIZfUVOmy"
      },
      "outputs": [],
      "source": [
        "# import libraries\n",
        "import pandas as pd\n",
        "import numpy as np\n",
        "import seaborn as sns\n",
        "import matplotlib.pyplot as plt\n",
        "import matplotlib.pyplot as plt\n",
        "import tensorflow as tf\n",
        "from sklearn.model_selection import train_test_split\n",
        "from sklearn.metrics import accuracy_score\n",
        "from sklearn.feature_extraction.text import TfidfVectorizer\n",
        "from sklearn.metrics import f1_score, roc_auc_score, roc_curve, auc, confusion_matrix\n",
        "from sklearn.utils.class_weight import compute_class_weight\n",
        "\n",
        "\n",
        "from tensorflow.keras.layers import Dense,Input\n",
        "from tensorflow.keras.models import Model\n"
      ]
    },
    {
      "cell_type": "code",
      "execution_count": 10,
      "metadata": {
        "colab": {
          "base_uri": "https://localhost:8080/"
        },
        "id": "Rlmq8jvCVOm8",
        "outputId": "b04ff575-1b99-4f32-f266-40a6bc1377d4"
      },
      "outputs": [
        {
          "name": "stdout",
          "output_type": "stream",
          "text": [
            "  airline_sentiment                                               text  target\n",
            "0           neutral                               What @dhepburn said.       2\n",
            "2           neutral  I didn't today... Must mean I need to take ano...       2\n",
            "3          negative  it's really aggressive to blast obnoxious \"ent...       0\n",
            "4          negative           and it's a really big bad thing about it       0\n",
            "5          negative  seriously would pay $30 a flight for seats tha...       0\n",
            "Number of samples: 14404\n"
          ]
        }
      ],
      "source": [
        "threshold = 0.5 # confidence in sentiment threshold\n",
        "\n",
        "def process_string(s):\n",
        "    # Split the string on spaces\n",
        "    words = s.split()\n",
        "\n",
        "    # Remove first element\n",
        "    words.pop(0)\n",
        "\n",
        "    # Rejoin the list into a string\n",
        "    return ' '.join(words)\n",
        "\n",
        "\n",
        "df = pd.read_csv('AirlineTweets.csv',delimiter=\",\")\n",
        "df = df[df['airline_sentiment_confidence']>threshold]\n",
        "df = df[['airline_sentiment','text']]\n",
        "\n",
        "# Apply the function to each row in the DataFrame\n",
        "df['text'] = df['text'].apply(process_string)\n",
        "\n",
        "sentiment = df[\"airline_sentiment\"]\n",
        "text = df[\"text\"]\n",
        "\n",
        "\n",
        "\n",
        "## Convert classes to numbers\n",
        "target_map = {\"positive\":1,\"negative\":0,\"neutral\":2}\n",
        "df['target'] = df['airline_sentiment'].map(target_map)\n",
        "\n",
        "\n",
        "# Display the first few rows of the DataFrame\n",
        "print(df.head())\n",
        "print(f\"Number of samples: {len(df)}\")\n",
        "\n"
      ]
    },
    {
      "cell_type": "code",
      "execution_count": 11,
      "metadata": {
        "colab": {
          "base_uri": "https://localhost:8080/",
          "height": 448
        },
        "id": "jWEqX-HMVOm_",
        "outputId": "57bc2461-4e23-450d-b6ac-c4fa40ad351b"
      },
      "outputs": [
        {
          "data": {
            "text/plain": [
              "<Axes: >"
            ]
          },
          "execution_count": 11,
          "metadata": {},
          "output_type": "execute_result"
        },
        {
          "data": {
            "image/png": "[encoded data removed]",
            "text/plain": [
              "<Figure size 640x480 with 1 Axes>"
            ]
          },
          "metadata": {},
          "output_type": "display_data"
        }
      ],
      "source": [
        "# Check for class imbalance (HUUGE)\n",
        "\n",
        "df['airline_sentiment'].hist()"
      ]
    },
    {
      "cell_type": "code",
      "execution_count": 19,
      "metadata": {
        "colab": {
          "base_uri": "https://localhost:8080/",
          "height": 304
        },
        "id": "GDIc1CB4VOnE",
        "outputId": "7c856655-f485-4c2a-bf2d-977a664f6b1b"
      },
      "outputs": [
        {
          "name": "stdout",
          "output_type": "stream",
          "text": [
            "Num of classes: 3\n",
            "Iput D 11841\n"
          ]
        },
        {
          "data": {
            "text/html": [
              "<pre style=\"white-space:pre;overflow-x:auto;line-height:normal;font-family:Menlo,'DejaVu Sans Mono',consolas,'Courier New',monospace\"><span style=\"font-weight: bold\">Model: \"functional_2\"</span>\n",
              "</pre>\n"
            ],
            "text/plain": [
              "\u001b[1mModel: \"functional_2\"\u001b[0m\n"
            ]
          },
          "metadata": {},
          "output_type": "display_data"
        },
        {
          "data": {
            "text/html": [
              "<pre style=\"white-space:pre;overflow-x:auto;line-height:normal;font-family:Menlo,'DejaVu Sans Mono',consolas,'Courier New',monospace\">┏━━━━━━━━━━━━━━━━━━━━━━━━━━━━━━━━━┳━━━━━━━━━━━━━━━━━━━━━━━━┳━━━━━━━━━━━━━━━┓\n",
              "┃<span style=\"font-weight: bold\"> Layer (type)                    </span>┃<span style=\"font-weight: bold\"> Output Shape           </span>┃<span style=\"font-weight: bold\">       Param # </span>┃\n",
              "┡━━━━━━━━━━━━━━━━━━━━━━━━━━━━━━━━━╇━━━━━━━━━━━━━━━━━━━━━━━━╇━━━━━━━━━━━━━━━┩\n",
              "│ input_layer_2 (<span style=\"color: #0087ff; text-decoration-color: #0087ff\">InputLayer</span>)      │ (<span style=\"color: #00d7ff; text-decoration-color: #00d7ff\">None</span>, <span style=\"color: #00af00; text-decoration-color: #00af00\">11841</span>)          │             <span style=\"color: #00af00; text-decoration-color: #00af00\">0</span> │\n",
              "├─────────────────────────────────┼────────────────────────┼───────────────┤\n",
              "│ dense_5 (<span style=\"color: #0087ff; text-decoration-color: #0087ff\">Dense</span>)                 │ (<span style=\"color: #00d7ff; text-decoration-color: #00d7ff\">None</span>, <span style=\"color: #00af00; text-decoration-color: #00af00\">500</span>)            │     <span style=\"color: #00af00; text-decoration-color: #00af00\">5,921,000</span> │\n",
              "├─────────────────────────────────┼────────────────────────┼───────────────┤\n",
              "│ dense_6 (<span style=\"color: #0087ff; text-decoration-color: #0087ff\">Dense</span>)                 │ (<span style=\"color: #00d7ff; text-decoration-color: #00d7ff\">None</span>, <span style=\"color: #00af00; text-decoration-color: #00af00\">3</span>)              │         <span style=\"color: #00af00; text-decoration-color: #00af00\">1,503</span> │\n",
              "└─────────────────────────────────┴────────────────────────┴───────────────┘\n",
              "</pre>\n"
            ],
            "text/plain": [
              "┏━━━━━━━━━━━━━━━━━━━━━━━━━━━━━━━━━┳━━━━━━━━━━━━━━━━━━━━━━━━┳━━━━━━━━━━━━━━━┓\n",
              "┃\u001b[1m \u001b[0m\u001b[1mLayer (type)                   \u001b[0m\u001b[1m \u001b[0m┃\u001b[1m \u001b[0m\u001b[1mOutput Shape          \u001b[0m\u001b[1m \u001b[0m┃\u001b[1m \u001b[0m\u001b[1m      Param #\u001b[0m\u001b[1m \u001b[0m┃\n",
              "┡━━━━━━━━━━━━━━━━━━━━━━━━━━━━━━━━━╇━━━━━━━━━━━━━━━━━━━━━━━━╇━━━━━━━━━━━━━━━┩\n",
              "│ input_layer_2 (\u001b[38;5;33mInputLayer\u001b[0m)      │ (\u001b[38;5;45mNone\u001b[0m, \u001b[38;5;34m11841\u001b[0m)          │             \u001b[38;5;34m0\u001b[0m │\n",
              "├─────────────────────────────────┼────────────────────────┼───────────────┤\n",
              "│ dense_5 (\u001b[38;5;33mDense\u001b[0m)                 │ (\u001b[38;5;45mNone\u001b[0m, \u001b[38;5;34m500\u001b[0m)            │     \u001b[38;5;34m5,921,000\u001b[0m │\n",
              "├─────────────────────────────────┼────────────────────────┼───────────────┤\n",
              "│ dense_6 (\u001b[38;5;33mDense\u001b[0m)                 │ (\u001b[38;5;45mNone\u001b[0m, \u001b[38;5;34m3\u001b[0m)              │         \u001b[38;5;34m1,503\u001b[0m │\n",
              "└─────────────────────────────────┴────────────────────────┴───────────────┘\n"
            ]
          },
          "metadata": {},
          "output_type": "display_data"
        },
        {
          "data": {
            "text/html": [
              "<pre style=\"white-space:pre;overflow-x:auto;line-height:normal;font-family:Menlo,'DejaVu Sans Mono',consolas,'Courier New',monospace\"><span style=\"font-weight: bold\"> Total params: </span><span style=\"color: #00af00; text-decoration-color: #00af00\">5,922,503</span> (22.59 MB)\n",
              "</pre>\n"
            ],
            "text/plain": [
              "\u001b[1m Total params: \u001b[0m\u001b[38;5;34m5,922,503\u001b[0m (22.59 MB)\n"
            ]
          },
          "metadata": {},
          "output_type": "display_data"
        },
        {
          "data": {
            "text/html": [
              "<pre style=\"white-space:pre;overflow-x:auto;line-height:normal;font-family:Menlo,'DejaVu Sans Mono',consolas,'Courier New',monospace\"><span style=\"font-weight: bold\"> Trainable params: </span><span style=\"color: #00af00; text-decoration-color: #00af00\">5,922,503</span> (22.59 MB)\n",
              "</pre>\n"
            ],
            "text/plain": [
              "\u001b[1m Trainable params: \u001b[0m\u001b[38;5;34m5,922,503\u001b[0m (22.59 MB)\n"
            ]
          },
          "metadata": {},
          "output_type": "display_data"
        },
        {
          "data": {
            "text/html": [
              "<pre style=\"white-space:pre;overflow-x:auto;line-height:normal;font-family:Menlo,'DejaVu Sans Mono',consolas,'Courier New',monospace\"><span style=\"font-weight: bold\"> Non-trainable params: </span><span style=\"color: #00af00; text-decoration-color: #00af00\">0</span> (0.00 B)\n",
              "</pre>\n"
            ],
            "text/plain": [
              "\u001b[1m Non-trainable params: \u001b[0m\u001b[38;5;34m0\u001b[0m (0.00 B)\n"
            ]
          },
          "metadata": {},
          "output_type": "display_data"
        }
      ],
      "source": [
        "# df = pd.read_csv('AirlineTweets.csv',delimiter=\",\")\n",
        "\n",
        "df_train,df_test = train_test_split(df, test_size=0.3, random_state=42)\n",
        "\n",
        "tfidf_vectorizer = TfidfVectorizer(lowercase=True,stop_words='english')\n",
        "\n",
        "Xtrain = tfidf_vectorizer.fit_transform(df_train['text'])\n",
        "Xtest = tfidf_vectorizer.transform(df_test['text'])\n",
        "\n",
        "Ytrain = df_train['target']\n",
        "Ytest = df_test['target']\n",
        "\n",
        "# compute class weight to counteract class imbalannce\n",
        "class_weights = compute_class_weight(class_weight='balanced', classes=np.unique(Ytrain), y=Ytrain)\n",
        "class_weight_dict = {i: weight for i, weight in enumerate(class_weights)}\n",
        "\n",
        "\n",
        "# Number of classes\n",
        "K = df['target'].value_counts().value_counts().sum()\n",
        "print(f\"Num of classes: {K}\")\n",
        "\n",
        "# input dimensions\n",
        "D = Xtrain.shape[1]\n",
        "print(f\"Iput D {D}\")\n",
        "\n",
        "# tensorflow needs array in non sparse form\n",
        "Xtrain = Xtrain.toarray()\n",
        "Xtest = Xtest.toarray()\n",
        "\n",
        "\n",
        "# These seem to be helping, not sure why\n",
        "# Convert to NumPy arrays if they are not already\n",
        "Ytrain = Ytrain.to_numpy() if hasattr(Ytrain, \"to_numpy\") else Ytrain\n",
        "Ytest = Ytest.to_numpy() if hasattr(Ytest, \"to_numpy\") else Ytest\n",
        "\n",
        "\n",
        "# Build model\n",
        "i = Input(shape=(D,))\n",
        "x = Dense(500,activation='relu')(i)\n",
        "x = Dense(K)(x) # softmax in loss\n",
        "\n",
        "model = Model(i,x)\n",
        "model.summary()"
      ]
    },
    {
      "cell_type": "code",
      "execution_count": 20,
      "metadata": {
        "colab": {
          "base_uri": "https://localhost:8080/",
          "height": 469
        },
        "id": "E1MD5wwDVOnG",
        "outputId": "98347c8a-7a9b-4642-f1cf-821c5f9504ab"
      },
      "outputs": [
        {
          "name": "stdout",
          "output_type": "stream",
          "text": [
            "Epoch 1/7\n",
            "\u001b[1m79/79\u001b[0m \u001b[32m━━━━━━━━━━━━━━━━━━━━\u001b[0m\u001b[37m\u001b[0m \u001b[1m6s\u001b[0m 64ms/step - accuracy: 0.6717 - loss: 1.0001 - val_accuracy: 0.7580 - val_loss: 0.6266\n",
            "Epoch 2/7\n",
            "\u001b[1m79/79\u001b[0m \u001b[32m━━━━━━━━━━━━━━━━━━━━\u001b[0m\u001b[37m\u001b[0m \u001b[1m5s\u001b[0m 57ms/step - accuracy: 0.8501 - loss: 0.4773 - val_accuracy: 0.7601 - val_loss: 0.5902\n",
            "Epoch 3/7\n",
            "\u001b[1m79/79\u001b[0m \u001b[32m━━━━━━━━━━━━━━━━━━━━\u001b[0m\u001b[37m\u001b[0m \u001b[1m5s\u001b[0m 58ms/step - accuracy: 0.9155 - loss: 0.2619 - val_accuracy: 0.7621 - val_loss: 0.6048\n",
            "Epoch 4/7\n",
            "\u001b[1m79/79\u001b[0m \u001b[32m━━━━━━━━━━━━━━━━━━━━\u001b[0m\u001b[37m\u001b[0m \u001b[1m4s\u001b[0m 56ms/step - accuracy: 0.9484 - loss: 0.1676 - val_accuracy: 0.7596 - val_loss: 0.6648\n",
            "Epoch 5/7\n",
            "\u001b[1m79/79\u001b[0m \u001b[32m━━━━━━━━━━━━━━━━━━━━\u001b[0m\u001b[37m\u001b[0m \u001b[1m5s\u001b[0m 58ms/step - accuracy: 0.9644 - loss: 0.1226 - val_accuracy: 0.7547 - val_loss: 0.7279\n",
            "Epoch 6/7\n",
            "\u001b[1m79/79\u001b[0m \u001b[32m━━━━━━━━━━━━━━━━━━━━\u001b[0m\u001b[37m\u001b[0m \u001b[1m5s\u001b[0m 60ms/step - accuracy: 0.9701 - loss: 0.1013 - val_accuracy: 0.7515 - val_loss: 0.7870\n",
            "Epoch 7/7\n",
            "\u001b[1m79/79\u001b[0m \u001b[32m━━━━━━━━━━━━━━━━━━━━\u001b[0m\u001b[37m\u001b[0m \u001b[1m5s\u001b[0m 57ms/step - accuracy: 0.9747 - loss: 0.0859 - val_accuracy: 0.7510 - val_loss: 0.8383\n"
          ]
        },
        {
          "data": {
            "text/plain": [
              "<matplotlib.legend.Legend at 0x2dabbba3280>"
            ]
          },
          "execution_count": 20,
          "metadata": {},
          "output_type": "execute_result"
        },
        {
          "data": {
            "image/png": "[encoded data removed]",
            "text/plain": [
              "<Figure size 640x480 with 1 Axes>"
            ]
          },
          "metadata": {},
          "output_type": "display_data"
        }
      ],
      "source": [
        "model.compile(\n",
        "    loss = tf.keras.losses.SparseCategoricalCrossentropy(from_logits=True),\n",
        "    optimizer='adam',\n",
        "    metrics=['accuracy']\n",
        "    )\n",
        "\n",
        "r = model.fit(\n",
        "    Xtrain,Ytrain,\n",
        "    validation_data=(Xtest,Ytest),\n",
        "    epochs = 7,\n",
        "    class_weight = class_weight_dict,\n",
        "    batch_size = 128\n",
        "\n",
        "\n",
        ")\n",
        "\n",
        "# plot loss/iteration\n",
        "\n",
        "plt.plot(r.history['loss'],label = 'train_loss')\n",
        "plt.plot(r.history['val_loss'],label = 'val_loss')\n",
        "plt.legend()"
      ]
    },
    {
      "cell_type": "code",
      "execution_count": 21,
      "metadata": {
        "colab": {
          "base_uri": "https://localhost:8080/"
        },
        "id": "0eBwyVfnVm3c",
        "outputId": "e06a0558-a74c-4231-d8c7-1cb1314cb07e"
      },
      "outputs": [
        {
          "name": "stdout",
          "output_type": "stream",
          "text": [
            "\u001b[1m316/316\u001b[0m \u001b[32m━━━━━━━━━━━━━━━━━━━━\u001b[0m\u001b[37m\u001b[0m \u001b[1m2s\u001b[0m 5ms/step\n",
            "\u001b[1m136/136\u001b[0m \u001b[32m━━━━━━━━━━━━━━━━━━━━\u001b[0m\u001b[37m\u001b[0m \u001b[1m1s\u001b[0m 6ms/step\n",
            "Train AUC: 0.998858682535474\n",
            "Test AUC: 0.8536246301787701\n"
          ]
        }
      ],
      "source": [
        "#Calculate AUC Score\n",
        "P_train = tf.nn.softmax(model.predict(Xtrain))\n",
        "P_test = tf.nn.softmax(model.predict(Xtest))\n",
        "\n",
        "\n",
        "print(\"Train AUC:\",roc_auc_score(Ytrain,P_train,multi_class='ovo'))\n",
        "print(\"Test AUC:\",roc_auc_score(Ytest,P_test,multi_class='ovo'))\n"
      ]
    },
    {
      "cell_type": "code",
      "execution_count": 23,
      "metadata": {
        "colab": {
          "base_uri": "https://localhost:8080/"
        },
        "id": "kcbT9hp9asLr",
        "outputId": "55301f2c-ff81-4dec-a7df-eb2ece56329f"
      },
      "outputs": [
        {
          "name": "stdout",
          "output_type": "stream",
          "text": [
            "\u001b[1m1/1\u001b[0m \u001b[32m━━━━━━━━━━━━━━━━━━━━\u001b[0m\u001b[37m\u001b[0m \u001b[1m0s\u001b[0m 33ms/step\n",
            "Text: it was stellar\n",
            "Prediction: positive\n",
            "\n",
            "Text: it was awesome\n",
            "Prediction: positive\n",
            "\n",
            "Text: worst ever\n",
            "Prediction: negative\n",
            "\n",
            "Text: best ever service \n",
            "Prediction: positive\n",
            "\n"
          ]
        }
      ],
      "source": [
        "# Sample custom text for prediction\n",
        "custom_text = [\"it was stellar\", \"it was awesome\",\"worst ever\",\"best ever service \"]\n",
        "\n",
        "# Transform the custom text using the same vectorizer\n",
        "custom_text_vectorized = tfidf_vectorizer.transform(custom_text)\n",
        "custom_text_vectorized = custom_text_vectorized.toarray()\n",
        "\n",
        "# Make the prediction\n",
        "predictions = tf.nn.softmax(model.predict(custom_text_vectorized))\n",
        "\n",
        "\n",
        "# Get the class with the highest probability\n",
        "predicted_classes = np.argmax(predictions, axis=1)\n",
        "\n",
        "# Map the predicted classes to text labels\n",
        "class_labels = ['negative', 'positive', 'neutral']\n",
        "predicted_labels = [class_labels[i] for i in predicted_classes]\n",
        "\n",
        "\n",
        "\n",
        "# Display the predictions\n",
        "for text, prediction in zip(custom_text, predicted_labels):\n",
        "    print(f\"Text: {text}\\nPrediction: {prediction}\\n\")\n"
      ]
    }
  ],
  "metadata": {
    "colab": {
      "provenance": []
    },
    "kernelspec": {
      "display_name": "Python 3",
      "language": "python",
      "name": "python3"
    },
    "language_info": {
      "codemirror_mode": {
        "name": "ipython",
        "version": 3
      },
      "file_extension": ".py",
      "mimetype": "text/x-python",
      "name": "python",
      "nbconvert_exporter": "python",
      "pygments_lexer": "ipython3",
      "version": "3.10.6"
    }
  },
  "nbformat": 4,
  "nbformat_minor": 0
}
