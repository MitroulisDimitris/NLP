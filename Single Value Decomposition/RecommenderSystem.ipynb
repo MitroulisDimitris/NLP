{
 "cells": [
  {
   "cell_type": "code",
   "execution_count": 68,
   "metadata": {},
   "outputs": [
    {
     "name": "stdout",
     "output_type": "stream",
     "text": [
      "^C\n"
     ]
    },
    {
     "name": "stderr",
     "output_type": "stream",
     "text": [
      "--2024-08-23 15:48:38--  https://lazyprogrammer.me/course_files/nlp/tmdb_5000_movies.csv\n",
      "Resolving lazyprogrammer.me (lazyprogrammer.me)... 104.21.23.210, 172.67.213.166\n",
      "Connecting to lazyprogrammer.me (lazyprogrammer.me)|104.21.23.210|:443... connected.\n",
      "HTTP request sent, awaiting response... 200 OK\n",
      "Length: 5698602 (5,4M) [text/csv]\n",
      "Saving to: 'tmdb_5000_movies.csv.2'\n",
      "\n",
      "     0K .......... .......... .......... .......... ..........  0% 74,1K 74s\n",
      "    50K .......... .......... .......... .......... ..........  1%  638K 41s\n",
      "   100K .......... .......... .......... .......... ..........  2% 99,1K 45s\n",
      "   150K .......... .......... .......... .......... ..........  3% 49,6K 61s\n",
      "   200K .......... .......... .......... .......... ..........  4%  251K 52s\n",
      "   250K .......... .......... .......... .......... ..........  5% 39,3K 66s\n",
      "   300K .......... .......... .......... .......... ..........  6% 1,21M 56s\n",
      "   350K .......... .......... .......... .......... ..........  7% 45,1K 63s\n",
      "   400K .......... .......... .......... .......... ..........  8%  169K 59s\n",
      "   450K .......... .......... .......... .......... ..........  8% 31,4K 69s\n",
      "   500K .......... .......... .......... .......... ..........  9%  156K 65s\n",
      "   550K .......... .......... .......... .......... .......... 10% 61,2K 65s\n",
      "   600K .......... .......... .......... .......... .......... 11% 63,3K 66s\n",
      "   650K .......... .......... .......... .......... .......... 12%  837K 61s\n",
      "   700K .......... .......... .......... .......... .......... 13%  244K 58s\n",
      "   750K .......... .......... .......... .......... .......... 14% 36,5K 62s\n",
      "   800K .......... .......... .......... .......... .......... 15% 38,1K 65s\n",
      "   850K .......... .......... .......... .......... .......... 16% 49,2K 66s\n",
      "   900K .......... .......... .......... .......... .......... 17% 92,1K 64s\n",
      "   950K .......... .......... .......... .......... .......... 17%  273K 61s\n",
      "  1000K .......... .......... .......... .......... .......... 18% 87,4K 60s\n",
      "  1050K .......... .......... .......... .......... .......... 19% 41,8K 62s\n",
      "  1100K .......... .......... .......... .......... .......... 20% 41,8K 63s\n",
      "  1150K .......... .......... .......... .......... .......... 21%  114K 61s\n",
      "  1200K .......... .......... .......... .......... .......... 22% 99,0K 60s\n",
      "  1250K .......... .......... .......... .......... .......... 23% 43,3K 61s\n",
      "  1300K .......... .......... .......... .......... .......... 24%  733K 58s\n",
      "  1350K .......... .......... .......... .......... .......... 25%  229K 56s\n",
      "  1400K .......... .......... .......... .......... .......... 26% 75,9K 55s\n",
      "  1450K .......... .......... .......... .......... .......... 26%  225K 53s\n",
      "  1500K .......... .......... .......... .......... .......... 27%  263K 51s\n",
      "  1550K .......... .......... .......... .......... .......... 28%  650K 49s\n",
      "  1600K .......... .......... .......... .......... .......... 29%  135K 48s\n",
      "  1650K .......... .......... .......... .......... .......... 30%  469K 46s\n",
      "  1700K .......... .......... .......... .......... .......... 31%  107K 45s\n",
      "  1750K .......... .......... .......... .......... .......... 32%  126M 44s\n",
      "  1800K .......... .......... .......... .......... .......... 33% 42,9K 44s\n",
      "  1850K .......... .......... .......... .......... .......... 34%  624K 43s\n",
      "  1900K .......... .......... .......... .......... .......... 35%  255K 41s\n",
      "  1950K .......... .......... .......... .......... .......... 35%  816K 40s\n",
      "  2000K .......... .......... .......... .......... .......... 36%  421K 38s\n",
      "  2050K .......... .......... .......... .......... .......... 37% 65,2K 38s\n",
      "  2100K .......... .......... .......... .......... .......... 38% 1,33M 37s\n",
      "  2150K .......... .......... .......... .......... .......... 39%  557K 36s\n",
      "  2200K .......... .......... .......... .......... .......... 40% 60,2K 36s\n",
      "  2250K .......... .......... .......... .......... .......... 41%  105M 34s\n",
      "  2300K .......... .......... .......... .......... .......... 42%  176M 33s\n",
      "  2350K .......... .......... .......... .......... .......... 43%  361K 32s\n",
      "  2400K .......... .......... .......... .......... .......... 44% 43,9K 32s\n",
      "  2450K .......... .......... .......... .......... .......... 44% 33,1K 33s\n",
      "  2500K .......... .......... .......... .......... .......... 45% 22,8M 32s\n",
      "  2550K .......... .......... .......... .......... .......... 46% 33,5K 32s\n",
      "  2600K .......... .......... .......... .......... .......... 47%  208K 32s\n",
      "  2650K .......... .......... .......... .......... .......... 48% 51,8K 31s\n",
      "  2700K .......... .......... .......... .......... .......... 49% 42,1K 32s\n",
      "  2750K .......... .......... .......... .......... .......... 50% 61,3K 31s\n",
      "  2800K .......... .......... .......... .......... .......... 51% 49,1K 31s\n",
      "  2850K .......... .......... .......... .......... .......... 52% 51,8K 31s\n",
      "  2900K .......... .......... .......... .......... .......... 53%  141K 30s\n",
      "  2950K .......... .......... .......... .......... .......... 53% 76,9K 30s\n",
      "  3000K .......... .......... .......... .......... .......... 54% 55,3K 29s\n",
      "  3050K .......... .......... .......... .......... .......... 55% 68,9K 29s\n",
      "  3100K .......... .......... .......... .......... .......... 56%  364K 28s\n",
      "  3150K .......... .......... .......... .......... .......... 57% 52,6K 28s\n",
      "  3200K .......... .......... .......... .......... .......... 58% 32,7K 28s\n",
      "  3250K .......... .......... .......... .......... .......... 59%  216K 27s\n",
      "  3300K .......... .......... .......... .......... .......... 60%  112K 26s\n",
      "  3350K .......... .......... .......... .......... .......... 61% 36,7K 26s\n",
      "  3400K .......... .......... .......... .......... .......... 61% 41,4K 26s\n",
      "  3450K .......... .......... .......... .......... .......... 62% 49,2K 25s\n",
      "  3500K .......... .......... .......... .......... .......... 63% 44,0K 25s\n",
      "  3550K .......... .......... .......... .......... .......... 64% 95,4K 24s\n",
      "  3600K .......... .......... .......... .......... .......... 65% 48,3K 24s\n",
      "  3650K .......... .......... .......... .......... .......... 66% 53,3K 24s\n",
      "  3700K .......... .......... .......... .......... .......... 67%  293K 23s\n",
      "  3750K .......... .......... .......... .......... .......... 68% 69,5K 22s\n",
      "  3800K .......... .......... .......... .......... .......... 69% 55,0K 22s\n",
      "  3850K .......... .......... .......... .......... .......... 70% 62,6K 21s\n",
      "  3900K .......... .......... .......... .......... .......... 70%  268K 20s\n",
      "  3950K .......... .......... .......... .......... .......... 71% 74,8K 20s\n",
      "  4000K .......... .......... .......... .......... .......... 72% 38,5K 19s\n",
      "  4050K .......... .......... .......... .......... .......... 73%  233K 18s\n",
      "  4100K .......... .......... .......... .......... .......... 74% 53,0K 18s\n",
      "  4150K .......... .......... .......... .......... .......... 75% 52,8K 17s\n",
      "  4200K .......... .......... .......... .......... .......... 76%  151K 17s\n",
      "  4250K .......... .......... .......... .......... .......... 77% 48,0K 16s\n",
      "  4300K .......... .......... .......... .......... .......... 78% 37,9K 16s\n",
      "  4350K .......... .......... .......... .......... .......... 79% 33,4K 15s\n",
      "  4400K .......... .......... .......... .......... .......... 79% 22,3K 15s\n",
      "  4450K .......... .......... .......... .......... .......... 80% 4,01K 17s\n",
      "  4500K .......... .......... .......... .......... .......... 81% 77,0K 16s\n",
      "  4550K .......... .......... .......... .......... .......... 82%  273K 15s\n",
      "  4600K .......... .......... .......... .......... .......... 83% 20,0K 15s\n",
      "  4650K .......... .......... .......... .......... .......... 84% 9,03K 15s\n",
      "  4700K .......... .......... .......... .......... .......... 85% 33,1K 14s\n",
      "  4750K .......... .......... .......... .......... .......... 86% 67,8K 13s\n",
      "  4800K .......... .......... .......... .......... .......... 87% 88,0K 12s\n",
      "  4850K .......... .......... .......... .......... .......... 88% 71,8K 12s\n",
      "  4900K .......... .......... .......... .......... .......... 88% 43,5K 11s\n",
      "  4950K .......... .......... .......... .......... .......... 89%  115K 10s\n",
      "  5000K .......... .......... .......... .......... .......... 90% 36,1K 9s\n",
      "  5050K .......... .......... .......... .......... .......... 91% 23,6K 8s\n",
      "  5100K .......... .......... .......... .......... .......... 92%  107K 7s\n",
      "  5150K .......... .......... .......... .......... .......... 93% 67,7K 6s\n",
      "  5200K .......... .......... .......... .......... .......... 94% 73,1K 6s\n",
      "  5250K .......... .......... .......... .......... .......... 95%  118M 5s\n",
      "  5300K .......... .......... .......... .......... .......... 96% 29,3K 4s\n",
      "  5350K .......... .......... .......... .......... .......... 97% 22,9K 3s\n",
      "  5400K .......... .......... .......... .......... .......... 97% 77,1K 2s\n",
      "  5450K .......... .......... .......... .......... .......... 98% 29,6K 1s\n",
      "  5500K .......... .......... .......... .......... .......... 99% 19,8K 0s\n",
      "  5550K .......... .....                                      100%  206K=1m41s\n",
      "\n",
      "2024-08-23 15:50:20 (55,2 KB/s) - 'tmdb_5000_movies.csv.2' saved [5698602/5698602]\n",
      "\n"
     ]
    }
   ],
   "source": [
    "!wget https://lazyprogrammer.me/course_files/nlp/tmdb_5000_movies.csv"
   ]
  },
  {
   "cell_type": "code",
   "execution_count": 69,
   "metadata": {},
   "outputs": [],
   "source": [
    "import pandas as pd\n",
    "import numpy as np\n",
    "import matplotlib.pyplot as plt\n",
    "import re\n",
    "from sklearn.feature_extraction.text import TfidfVectorizer\n",
    "from sklearn.decomposition import TruncatedSVD\n",
    "from sklearn.metrics.pairwise import cosine_similarity, euclidean_distances\n",
    "\n",
    "\n",
    "from nltk import word_tokenize\n",
    "from nltk.stem import WordNetLemmatizer, PorterStemmer\n",
    "from nltk.corpus import wordnet\n",
    "import json"
   ]
  },
  {
   "cell_type": "code",
   "execution_count": 70,
   "metadata": {},
   "outputs": [
    {
     "data": {
      "text/plain": [
       "0       Action Adventure Fantasy ScienceFiction cultur...\n",
       "1       Adventure Fantasy Action ocean drugabuse exoti...\n",
       "2       Action Adventure Crime spy basedonnovel secret...\n",
       "3       Action Crime Drama Thriller dccomics crimefigh...\n",
       "4       Action Adventure ScienceFiction basedonnovel m...\n",
       "                              ...                        \n",
       "4798    Action Crime Thriller unitedstates–mexicobarri...\n",
       "4799                                      Comedy Romance \n",
       "4800    Comedy Drama Romance TVMovie date loveatfirsts...\n",
       "4801                                                     \n",
       "4802      Documentary obsession camcorder crush dreamgirl\n",
       "Name: string, Length: 4803, dtype: object"
      ]
     },
     "execution_count": 70,
     "metadata": {},
     "output_type": "execute_result"
    }
   ],
   "source": [
    "# Read CSV file using pandas\n",
    "df =  pd.read_csv('tmdb_5000_movies.csv')\n",
    "\n",
    "# merge genres and keyywords\n",
    "def genres_keywords_to_string(row):\n",
    "    genres = json.loads(row['genres'])\n",
    "    genres = ' '.join(''.join(j['name'].split()) for j in genres)\n",
    "    \n",
    "    keywords = json.loads(row['keywords'])\n",
    "    keywords = ' '.join(''.join(j['name'].split()) for j in keywords)\n",
    "    return \"%s %s\" % (genres,keywords)\n",
    "\n",
    "#apply() applies a function to the dataframe\n",
    "#create string collumn\n",
    "df['string'] = df.apply(genres_keywords_to_string, axis=1)\n",
    "df['string']"
   ]
  },
  {
   "cell_type": "code",
   "execution_count": 71,
   "metadata": {},
   "outputs": [
    {
     "data": {
      "text/plain": [
       "<4803x9789 sparse matrix of type '<class 'numpy.float64'>'\n",
       "\twith 48763 stored elements in Compressed Sparse Row format>"
      ]
     },
     "execution_count": 71,
     "metadata": {},
     "output_type": "execute_result"
    }
   ],
   "source": [
    "# calculate tfidf\n",
    "tfidf = TfidfVectorizer()\n",
    "X = tfidf.fit_transform(df['string'])\n",
    "X"
   ]
  },
  {
   "cell_type": "code",
   "execution_count": 73,
   "metadata": {},
   "outputs": [
    {
     "data": {
      "text/plain": [
       "(4803, 100)"
      ]
     },
     "execution_count": 73,
     "metadata": {},
     "output_type": "execute_result"
    }
   ],
   "source": [
    "svd = TruncatedSVD(n_components=100)\n",
    "Z = svd.fit_transform(X)\n",
    "Z.shape"
   ]
  },
  {
   "cell_type": "code",
   "execution_count": 75,
   "metadata": {},
   "outputs": [
    {
     "data": {
      "text/plain": [
       "(1, 100)"
      ]
     },
     "execution_count": 75,
     "metadata": {},
     "output_type": "execute_result"
    }
   ],
   "source": [
    "#  when we input the title, we get the index \n",
    "movie2idx = pd.Series(df.index, index=df['original_title'])\n",
    "\n",
    "idx = movie2idx['Avatar']\n",
    "\n",
    "query = Z[idx]\n",
    "\n",
    "# Reshape from (num_features,) -> (1,num_features)\n",
    "query = np.expand_dims(query, axis=0)\n",
    "query.shape"
   ]
  },
  {
   "cell_type": "code",
   "execution_count": 77,
   "metadata": {},
   "outputs": [
    {
     "data": {
      "text/plain": [
       "(1, 4803)"
      ]
     },
     "execution_count": 77,
     "metadata": {},
     "output_type": "execute_result"
    }
   ],
   "source": [
    "#print query vector\n",
    "#query.toarray()\n",
    "#compute similarity between query and every vector in X\n",
    "scores = cosine_similarity(query,Z)\n",
    "scores.shape"
   ]
  },
  {
   "cell_type": "code",
   "execution_count": 78,
   "metadata": {},
   "outputs": [
    {
     "name": "stdout",
     "output_type": "stream",
     "text": [
      "(4803,)\n"
     ]
    },
    {
     "data": {
      "text/plain": [
       "[<matplotlib.lines.Line2D at 0x15ec9192c60>]"
      ]
     },
     "execution_count": 78,
     "metadata": {},
     "output_type": "execute_result"
    },
    {
     "data": {
      "image/png": "[encoded data removed]",
      "text/plain": [
       "<Figure size 640x480 with 1 Axes>"
      ]
     },
     "metadata": {},
     "output_type": "display_data"
    }
   ],
   "source": [
    "scores = scores.flatten()\n",
    "print(scores.shape)\n",
    "plt.plot(scores)"
   ]
  },
  {
   "cell_type": "code",
   "execution_count": 79,
   "metadata": {},
   "outputs": [
    {
     "data": {
      "text/plain": [
       "[<matplotlib.lines.Line2D at 0x15ec93c4f80>]"
      ]
     },
     "execution_count": 79,
     "metadata": {},
     "output_type": "execute_result"
    },
    {
     "data": {
      "image/png": "[encoded data removed]",
      "text/plain": [
       "<Figure size 640x480 with 1 Axes>"
      ]
     },
     "metadata": {},
     "output_type": "display_data"
    }
   ],
   "source": [
    "#sort in descenting order\n",
    "(-scores).argsort()\n",
    "plt.plot(scores[(-scores).argsort()])"
   ]
  },
  {
   "cell_type": "code",
   "execution_count": 65,
   "metadata": {},
   "outputs": [
    {
     "data": {
      "text/plain": [
       "2327                      Predator\n",
       "4                      John Carter\n",
       "577        AVP: Alien vs. Predator\n",
       "3405    Stargate: The Ark of Truth\n",
       "47         Star Trek Into Darkness\n",
       "Name: original_title, dtype: object"
      ]
     },
     "execution_count": 65,
     "metadata": {},
     "output_type": "execute_result"
    }
   ],
   "source": [
    "#get top 5 matches, exclude self\n",
    "recommended = (-scores).argsort()[1:6]\n",
    "#convert them to titles again\n",
    "df['original_title'].iloc[recommended]"
   ]
  },
  {
   "cell_type": "code",
   "execution_count": 80,
   "metadata": {},
   "outputs": [
    {
     "data": {
      "text/plain": [
       "3427        The Andromeda Strain\n",
       "922                      Knowing\n",
       "2891    The Life Before Her Eyes\n",
       "4221                  Spellbound\n",
       "4733                 Open Secret\n",
       "Name: original_title, dtype: object"
      ]
     },
     "execution_count": 80,
     "metadata": {},
     "output_type": "execute_result"
    }
   ],
   "source": [
    "#make it a function\n",
    "def recommend_movie(title):\n",
    "    idx = movie2idx[title]\n",
    "    if type(idx) == pd.Series:\n",
    "        idx = idx.iloc[0]\n",
    "    query = Z[idx]\n",
    "    query = np.expand_dims(query, axis=0)\n",
    "    scores = cosine_similarity(query,Z)\n",
    "    scores = scores.flatten()\n",
    "    recommended = (-scores).argsort()[1:6]\n",
    "\n",
    "    return df['original_title'].iloc[recommended]\n",
    "\n",
    "recommend_movie('Cargo')"
   ]
  }
 ],
 "metadata": {
  "kernelspec": {
   "display_name": "Python 3",
   "language": "python",
   "name": "python3"
  },
  "language_info": {
   "codemirror_mode": {
    "name": "ipython",
    "version": 3
   },
   "file_extension": ".py",
   "mimetype": "text/x-python",
   "name": "python",
   "nbconvert_exporter": "python",
   "pygments_lexer": "ipython3",
   "version": "3.12.1"
  }
 },
 "nbformat": 4,
 "nbformat_minor": 2
}
