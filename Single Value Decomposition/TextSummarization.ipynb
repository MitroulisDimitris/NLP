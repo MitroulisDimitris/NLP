{
 "cells": [
  {
   "cell_type": "code",
   "execution_count": null,
   "metadata": {},
   "outputs": [],
   "source": [
    "!wget -nc https://lazyprogrammer.me/course_files/nlp/bbc_text_cls.csv"
   ]
  },
  {
   "cell_type": "code",
   "execution_count": null,
   "metadata": {},
   "outputs": [],
   "source": [
    "# import libraries\n",
    "import random\n",
    "import pandas as pd\n",
    "import numpy as np\n",
    "import nltk\n",
    "from sklearn.feature_extraction.text import TfidfVectorizer\n",
    "from sklearn.decomposition import TruncatedSVD\n",
    "\n",
    "from nltk.corpus import stopwords\n",
    "nltk.download('punkt')\n",
    "nltk.download('stopwords')"
   ]
  },
  {
   "cell_type": "code",
   "execution_count": null,
   "metadata": {},
   "outputs": [],
   "source": [
    "#import dataset\n",
    "df = pd.read_csv('bbc_text_cls.csv')\n",
    "\n",
    "# helper function to remove newline\n",
    "def strip_nl(s):\n",
    "    return s.replace(\"\\n\",\" \")\n",
    "\n",
    "# remove newline\n",
    "df['text'] = df['text'].apply(strip_nl)\n",
    "\n",
    "# get random article\n",
    "article = df['text'].iloc[random.randint(0,len(df['text'])-1)]"
   ]
  },
  {
   "cell_type": "code",
   "execution_count": null,
   "metadata": {},
   "outputs": [],
   "source": [
    "# Split the document in sentences\n",
    "sentences = nltk.sent_tokenize(article)\n",
    "\n",
    "# calculate TF-IDF\n",
    "vectorizer = TfidfVectorizer(stop_words=stopwords.words('english'),norm='l1')\n",
    "tfidf_matrix = vectorizer.fit_transform(sentences)\n",
    "\n",
    "# Apply SVD to reduce dimensionality\n",
    "n_components = min(5, tfidf_matrix.shape[1] - 1)  # Set the number of components\n",
    "svd = TruncatedSVD(n_components=n_components)\n",
    "svd_matrix = svd.fit_transform(tfidf_matrix)\n",
    "\n",
    "\n",
    "sorted_indices = np.argsort(svd_matrix)[::-1]\n",
    "\n",
    "# select N first sentences\n",
    "N = 3\n",
    "top_sentences = sorted_indices[:N]\n",
    "\n",
    "# Print summary\n",
    "summary = [sentences[i] for i in top_sentences[:N]]\n",
    "for sentence in summary:\n",
    "    print(sentence)\n",
    "\n",
    "# TODO: find bug"
   ]
  },
  {
   "cell_type": "code",
   "execution_count": null,
   "metadata": {},
   "outputs": [],
   "source": [
    "sentences"
   ]
  }
 ],
 "metadata": {
  "kernelspec": {
   "display_name": "Python 3",
   "language": "python",
   "name": "python3"
  },
  "language_info": {
   "codemirror_mode": {
    "name": "ipython",
    "version": 3
   },
   "file_extension": ".py",
   "mimetype": "text/x-python",
   "name": "python",
   "nbconvert_exporter": "python",
   "pygments_lexer": "ipython3",
   "version": "3.12.1"
  }
 },
 "nbformat": 4,
 "nbformat_minor": 2
}
