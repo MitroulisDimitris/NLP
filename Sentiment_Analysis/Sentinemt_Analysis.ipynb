{
 "cells": [
  {
   "cell_type": "markdown",
   "metadata": {},
   "source": [
    "## Sentiment analysis Using linear regression\n",
    "1. Download and import dataset\n",
    "2. Clean, rename columns, check data\n",
    "3. Tokenize words\n",
    "4. Train model\n",
    "5. Check accuracy\n",
    "6. Run AUC, F1\n",
    " \n",
    " \n",
    "**Extras**\n",
    "- Build Binary classifier\n",
    "- Interpet results\n",
    "- Print words with the most positive and negative weights"
   ]
  },
  {
   "cell_type": "code",
   "execution_count": null,
   "metadata": {},
   "outputs": [],
   "source": [
    "!wget -nc https://lazyprogrammer.me/course_files/AirlineTweets.csv"
   ]
  },
  {
   "cell_type": "code",
   "execution_count": null,
   "metadata": {},
   "outputs": [],
   "source": [
    "# import libraries\n",
    "import pandas as pd\n",
    "from sklearn.model_selection import train_test_split\n",
    "from sklearn.linear_model import LogisticRegression\n",
    "from sklearn.metrics import accuracy_score\n",
    "import matplotlib.pyplot as plt\n",
    "from sklearn.feature_extraction.text import TfidfVectorizer\n",
    "from sklearn.feature_extraction.text import CountVectorizer\n",
    "from sklearn.metrics import f1_score, roc_auc_score, roc_curve, auc, confusion_matrix\n",
    "import matplotlib.pyplot as plt\n",
    "import numpy as np\n"
   ]
  },
  {
   "cell_type": "code",
   "execution_count": null,
   "metadata": {},
   "outputs": [],
   "source": [
    "threshold = 0.5 # confidence in sentiment threshold \n",
    "\n",
    "def process_string(s):\n",
    "    # Split the string on spaces\n",
    "    words = s.split()\n",
    "    \n",
    "    # Remove one element (e.g., the second element, index 1)\n",
    "\n",
    "    words.pop(0)\n",
    "    \n",
    "    # Rejoin the list into a string\n",
    "    return ' '.join(words)\n",
    "\n",
    "\n",
    "df = pd.read_csv('AirlineTweets.csv',delimiter=\",\")\n",
    "df = df[df['airline_sentiment_confidence']>threshold]\n",
    "df = df[['airline_sentiment','text']]\n",
    "\n",
    "# Apply the function to each row in the DataFrame\n",
    "df['text'] = df['text'].apply(process_string)\n",
    "\n",
    "sentiment = df[\"airline_sentiment\"]\n",
    "text = df[\"text\"]\n",
    "\n",
    "# Display the first few rows of the DataFrame\n",
    "df.head()\n",
    "print(f\"Number of samples: {len(df)}\")"
   ]
  },
  {
   "cell_type": "code",
   "execution_count": null,
   "metadata": {},
   "outputs": [],
   "source": [
    "#TODO: create a function that splits the data but keeps the same percentage of each class in both train and test\n",
    "# Check for class imbalance\n",
    "\n",
    "test_plots = df['airline_sentiment'].value_counts()\n",
    "test_plots.plot(kind='bar', color='skyblue', alpha=0.7)\n",
    "plt.show()"
   ]
  },
  {
   "cell_type": "code",
   "execution_count": null,
   "metadata": {},
   "outputs": [],
   "source": [
    "X_train, X_test, y_train, y_test = train_test_split(text, sentiment, test_size=0.3, random_state=42)\n",
    "\n",
    "\n",
    "tfidf_vectorizer = TfidfVectorizer()\n",
    "count_vectorizer = CountVectorizer()\n",
    "\n",
    "# function .fit_transform() trains on a new vocabulary, \n",
    "# while .transform() trains on existing vocabulary\n",
    "X_train_vect = tfidf_vectorizer.fit_transform(X_train)\n",
    "X_test_vect = tfidf_vectorizer.transform(X_test)\n"
   ]
  },
  {
   "cell_type": "code",
   "execution_count": null,
   "metadata": {},
   "outputs": [],
   "source": [
    "# Train a logistic regression model\n",
    "model = LogisticRegression(max_iter=1000)\n",
    "model.fit(X_train_vect, y_train)"
   ]
  },
  {
   "cell_type": "code",
   "execution_count": 36,
   "metadata": {},
   "outputs": [
    {
     "name": "stdout",
     "output_type": "stream",
     "text": [
      "pos: 460 , neg: 3186, neut: 636\n"
     ]
    }
   ],
   "source": [
    "preds = model.predict_proba(X_test_vect)\n",
    "probs = [\"negative\",\"neuteral\",\"positive\"]\n",
    "\n",
    "negative_sentiment = {}\n",
    "neuteral_sentiment = {}\n",
    "positive_sentiment = {}\n",
    "\n",
    "#accuracy = accuracy_score(y_test,preds)\n",
    "#print(f\"model accuracy:{accuracy}\")\n",
    "\n",
    "for i,pred in enumerate(preds):\n",
    "  \n",
    "    index = np.argmax(pred)\n",
    "    \n",
    "    if index == 0:\n",
    "        negative_sentiment[X_test.iloc[i]] = pred[index]\n",
    "    \n",
    "    if index == 1:\n",
    "        neuteral_sentiment[X_test.iloc[i]] = pred[index]\n",
    "    \n",
    "    if index == 2:\n",
    "        positive_sentiment[X_test.iloc[i]] = pred[index]\n",
    "    \n",
    "        \n",
    "print(f\"pos: {len(positive_sentiment)} , neg: {len(negative_sentiment)}, neut: {len(neuteral_sentiment)}\")"
   ]
  },
  {
   "cell_type": "code",
   "execution_count": 40,
   "metadata": {},
   "outputs": [
    {
     "name": "stdout",
     "output_type": "stream",
     "text": [
      "Great - thank you.\n"
     ]
    }
   ],
   "source": [
    "# get most positive review\n",
    "max_key = max(positive_sentiment, key=positive_sentiment.get)\n",
    "print(max_key)\n"
   ]
  },
  {
   "cell_type": "code",
   "execution_count": 44,
   "metadata": {},
   "outputs": [
    {
     "name": "stdout",
     "output_type": "stream",
     "text": [
      "Text: it sucked so bad\n",
      "Prediction: negative\n",
      "\n",
      "Text: it was awesome\n",
      "Prediction: positive\n",
      "\n"
     ]
    }
   ],
   "source": [
    "# Sample custom text for prediction\n",
    "custom_text = [\"it sucked so bad\", \"it was awesome\"]\n",
    "\n",
    "# Transform the custom text using the same vectorizer\n",
    "custom_text_vectorized = tfidf_vectorizer.transform(custom_text)\n",
    "\n",
    "# Make the prediction\n",
    "predictions = model.predict(custom_text_vectorized)\n",
    "\n",
    "# Display the predictions\n",
    "for text, prediction in zip(custom_text, predictions):\n",
    "    print(f\"Text: {text}\\nPrediction: {prediction}\\n\")"
   ]
  }
 ],
 "metadata": {
  "kernelspec": {
   "display_name": "Python 3",
   "language": "python",
   "name": "python3"
  },
  "language_info": {
   "codemirror_mode": {
    "name": "ipython",
    "version": 3
   },
   "file_extension": ".py",
   "mimetype": "text/x-python",
   "name": "python",
   "nbconvert_exporter": "python",
   "pygments_lexer": "ipython3",
   "version": "3.12.1"
  }
 },
 "nbformat": 4,
 "nbformat_minor": 2
}
