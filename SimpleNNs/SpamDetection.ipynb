{
 "cells": [
  {
   "cell_type": "code",
   "execution_count": 1,
   "metadata": {},
   "outputs": [
    {
     "name": "stderr",
     "output_type": "stream",
     "text": [
      "--2024-09-03 23:17:58--  https://lazyprogrammer.me/course_files/spam.csv\n",
      "Resolving lazyprogrammer.me (lazyprogrammer.me)... 2606:4700:3031::6815:17d2, 2606:4700:3030::ac43:d5a6, 172.67.213.166, ...\n",
      "Connecting to lazyprogrammer.me (lazyprogrammer.me)|2606:4700:3031::6815:17d2|:443... connected.\n",
      "HTTP request sent, awaiting response... 200 OK\n",
      "Length: 503663 (492K) [text/csv]\n",
      "Saving to: 'spam.csv.1'\n",
      "\n",
      "     0K .......... .......... .......... .......... .......... 10%  618K 1s\n",
      "    50K .......... .......... .......... .......... .......... 20%  916K 1s\n",
      "   100K .......... .......... .......... .......... .......... 30%  121K 1s\n",
      "   150K .......... .......... .......... .......... .......... 40%  948K 1s\n",
      "   200K .......... .......... .......... .......... .......... 50%  360K 1s\n",
      "   250K .......... .......... .......... .......... .......... 60%  943K 1s\n",
      "   300K .......... .......... .......... .......... .......... 71% 1016K 0s\n",
      "   350K .......... .......... .......... .......... .......... 81%  485K 0s\n",
      "   400K .......... .......... .......... .......... .......... 91%  813K 0s\n",
      "   450K .......... .......... .......... .......... .         100% 1,00M=1,0s\n",
      "\n",
      "2024-09-03 23:18:00 (469 KB/s) - 'spam.csv.1' saved [503663/503663]\n",
      "\n"
     ]
    }
   ],
   "source": [
    "!wget https://lazyprogrammer.me/course_files/spam.csv"
   ]
  },
  {
   "cell_type": "code",
   "execution_count": 2,
   "metadata": {},
   "outputs": [],
   "source": [
    "# import libraries\n",
    "import pandas as pd\n",
    "from sklearn.model_selection import train_test_split\n",
    "from sklearn.metrics import accuracy_score\n",
    "import matplotlib.pyplot as plt\n",
    "from sklearn.feature_extraction.text import TfidfVectorizer,CountVectorizer\n",
    "from sklearn.metrics import f1_score, roc_auc_score, roc_curve, auc, confusion_matrix\n",
    "import seaborn as sns\n",
    "from wordcloud import WordCloud\n",
    "import numpy as np\n",
    "import tensorflow as tf\n",
    "\n",
    "from tensorflow.keras.layers import Dense, Input\n",
    "from tensorflow.keras.models import Model\n",
    "from tensorflow.keras.losses import BinaryCrossentropy\n",
    "from tensorflow.keras.optimizers import Adam\n",
    "import seaborn as sns\n"
   ]
  },
  {
   "cell_type": "code",
   "execution_count": 11,
   "metadata": {},
   "outputs": [
    {
     "name": "stdout",
     "output_type": "stream",
     "text": [
      "  Labels                                              Texts  target\n",
      "0    ham  Go until jurong point, crazy.. Available only ...       1\n",
      "1    ham                      Ok lar... Joking wif u oni...       1\n",
      "2   spam  Free entry in 2 a wkly comp to win FA Cup fina...       0\n",
      "3    ham  U dun say so early hor... U c already then say...       1\n",
      "4    ham  Nah I don't think he goes to usf, he lives aro...       1\n"
     ]
    }
   ],
   "source": [
    "np.random.seed(0)\n",
    "tf.random.set_seed(0)\n",
    "\n",
    "df = pd.read_csv('spam.csv',delimiter=\",\",encoding='ISO-8859-1')\n",
    "df = df.drop(columns=['Unnamed: 2','Unnamed: 3','Unnamed: 4'])\n",
    "df = df.rename(columns={\"v1\":\"Labels\",\"v2\":\"Texts\"})\n",
    "\n",
    "target_map = {'ham': 1, 'spam':0 }\n",
    "df['target'] = df['Labels'].map(target_map)\n",
    "\n",
    "# Display the first few rows of the DataFrame\n",
    "print(df.head())"
   ]
  },
  {
   "cell_type": "code",
   "execution_count": 15,
   "metadata": {},
   "outputs": [],
   "source": [
    "df_train,df_test = train_test_split(df,random_state=42)\n",
    "\n",
    "vectorizer = TfidfVectorizer(max_features=2000)\n",
    "X_train = vectorizer.fit_transform(df_train['Texts'])\n",
    "X_test = vectorizer.transform(df_test['Texts'])\n",
    "\n",
    "# Data must not be in sparse matrix before passing to tf\n",
    "X_train = X_train.toarray()\n",
    "X_test =X_test.toarray()\n",
    "\n",
    "Y_train = df_train['target']\n",
    "Y_test = df_test['target']\n",
    "\n",
    "# Input dimensions\n",
    "D = X_train.shape[1]"
   ]
  },
  {
   "cell_type": "code",
   "execution_count": 16,
   "metadata": {},
   "outputs": [
    {
     "data": {
      "text/html": [
       "<pre style=\"white-space:pre;overflow-x:auto;line-height:normal;font-family:Menlo,'DejaVu Sans Mono',consolas,'Courier New',monospace\"><span style=\"font-weight: bold\">Model: \"functional_1\"</span>\n",
       "</pre>\n"
      ],
      "text/plain": [
       "\u001b[1mModel: \"functional_1\"\u001b[0m\n"
      ]
     },
     "metadata": {},
     "output_type": "display_data"
    },
    {
     "data": {
      "text/html": [
       "<pre style=\"white-space:pre;overflow-x:auto;line-height:normal;font-family:Menlo,'DejaVu Sans Mono',consolas,'Courier New',monospace\">┏━━━━━━━━━━━━━━━━━━━━━━━━━━━━━━━━━┳━━━━━━━━━━━━━━━━━━━━━━━━┳━━━━━━━━━━━━━━━┓\n",
       "┃<span style=\"font-weight: bold\"> Layer (type)                    </span>┃<span style=\"font-weight: bold\"> Output Shape           </span>┃<span style=\"font-weight: bold\">       Param # </span>┃\n",
       "┡━━━━━━━━━━━━━━━━━━━━━━━━━━━━━━━━━╇━━━━━━━━━━━━━━━━━━━━━━━━╇━━━━━━━━━━━━━━━┩\n",
       "│ input_layer_1 (<span style=\"color: #0087ff; text-decoration-color: #0087ff\">InputLayer</span>)      │ (<span style=\"color: #00d7ff; text-decoration-color: #00d7ff\">None</span>, <span style=\"color: #00af00; text-decoration-color: #00af00\">2000</span>)           │             <span style=\"color: #00af00; text-decoration-color: #00af00\">0</span> │\n",
       "├─────────────────────────────────┼────────────────────────┼───────────────┤\n",
       "│ dense_1 (<span style=\"color: #0087ff; text-decoration-color: #0087ff\">Dense</span>)                 │ (<span style=\"color: #00d7ff; text-decoration-color: #00d7ff\">None</span>, <span style=\"color: #00af00; text-decoration-color: #00af00\">1</span>)              │         <span style=\"color: #00af00; text-decoration-color: #00af00\">2,001</span> │\n",
       "└─────────────────────────────────┴────────────────────────┴───────────────┘\n",
       "</pre>\n"
      ],
      "text/plain": [
       "┏━━━━━━━━━━━━━━━━━━━━━━━━━━━━━━━━━┳━━━━━━━━━━━━━━━━━━━━━━━━┳━━━━━━━━━━━━━━━┓\n",
       "┃\u001b[1m \u001b[0m\u001b[1mLayer (type)                   \u001b[0m\u001b[1m \u001b[0m┃\u001b[1m \u001b[0m\u001b[1mOutput Shape          \u001b[0m\u001b[1m \u001b[0m┃\u001b[1m \u001b[0m\u001b[1m      Param #\u001b[0m\u001b[1m \u001b[0m┃\n",
       "┡━━━━━━━━━━━━━━━━━━━━━━━━━━━━━━━━━╇━━━━━━━━━━━━━━━━━━━━━━━━╇━━━━━━━━━━━━━━━┩\n",
       "│ input_layer_1 (\u001b[38;5;33mInputLayer\u001b[0m)      │ (\u001b[38;5;45mNone\u001b[0m, \u001b[38;5;34m2000\u001b[0m)           │             \u001b[38;5;34m0\u001b[0m │\n",
       "├─────────────────────────────────┼────────────────────────┼───────────────┤\n",
       "│ dense_1 (\u001b[38;5;33mDense\u001b[0m)                 │ (\u001b[38;5;45mNone\u001b[0m, \u001b[38;5;34m1\u001b[0m)              │         \u001b[38;5;34m2,001\u001b[0m │\n",
       "└─────────────────────────────────┴────────────────────────┴───────────────┘\n"
      ]
     },
     "metadata": {},
     "output_type": "display_data"
    },
    {
     "data": {
      "text/html": [
       "<pre style=\"white-space:pre;overflow-x:auto;line-height:normal;font-family:Menlo,'DejaVu Sans Mono',consolas,'Courier New',monospace\"><span style=\"font-weight: bold\"> Total params: </span><span style=\"color: #00af00; text-decoration-color: #00af00\">2,001</span> (7.82 KB)\n",
       "</pre>\n"
      ],
      "text/plain": [
       "\u001b[1m Total params: \u001b[0m\u001b[38;5;34m2,001\u001b[0m (7.82 KB)\n"
      ]
     },
     "metadata": {},
     "output_type": "display_data"
    },
    {
     "data": {
      "text/html": [
       "<pre style=\"white-space:pre;overflow-x:auto;line-height:normal;font-family:Menlo,'DejaVu Sans Mono',consolas,'Courier New',monospace\"><span style=\"font-weight: bold\"> Trainable params: </span><span style=\"color: #00af00; text-decoration-color: #00af00\">2,001</span> (7.82 KB)\n",
       "</pre>\n"
      ],
      "text/plain": [
       "\u001b[1m Trainable params: \u001b[0m\u001b[38;5;34m2,001\u001b[0m (7.82 KB)\n"
      ]
     },
     "metadata": {},
     "output_type": "display_data"
    },
    {
     "data": {
      "text/html": [
       "<pre style=\"white-space:pre;overflow-x:auto;line-height:normal;font-family:Menlo,'DejaVu Sans Mono',consolas,'Courier New',monospace\"><span style=\"font-weight: bold\"> Non-trainable params: </span><span style=\"color: #00af00; text-decoration-color: #00af00\">0</span> (0.00 B)\n",
       "</pre>\n"
      ],
      "text/plain": [
       "\u001b[1m Non-trainable params: \u001b[0m\u001b[38;5;34m0\u001b[0m (0.00 B)\n"
      ]
     },
     "metadata": {},
     "output_type": "display_data"
    }
   ],
   "source": [
    "# Build model\n",
    "i = Input(shape=(D,))\n",
    "x = Dense(1)(i) # sigmoid included in loss, Dense  ==  w^T * x + b\n",
    "\n",
    "model = Model(i,x)\n",
    "model.summary()"
   ]
  },
  {
   "cell_type": "code",
   "execution_count": 17,
   "metadata": {},
   "outputs": [
    {
     "name": "stdout",
     "output_type": "stream",
     "text": [
      "Epoch 1/40\n",
      "\u001b[1m33/33\u001b[0m \u001b[32m━━━━━━━━━━━━━━━━━━━━\u001b[0m\u001b[37m\u001b[0m \u001b[1m2s\u001b[0m 12ms/step - accuracy: 0.2515 - loss: 0.6071 - val_accuracy: 0.9512 - val_loss: 0.4160\n",
      "Epoch 2/40\n",
      "\u001b[1m33/33\u001b[0m \u001b[32m━━━━━━━━━━━━━━━━━━━━\u001b[0m\u001b[37m\u001b[0m \u001b[1m0s\u001b[0m 5ms/step - accuracy: 0.9610 - loss: 0.3738 - val_accuracy: 0.9569 - val_loss: 0.3010\n",
      "Epoch 3/40\n",
      "\u001b[1m33/33\u001b[0m \u001b[32m━━━━━━━━━━━━━━━━━━━━\u001b[0m\u001b[37m\u001b[0m \u001b[1m0s\u001b[0m 5ms/step - accuracy: 0.9645 - loss: 0.2736 - val_accuracy: 0.9627 - val_loss: 0.2423\n",
      "Epoch 4/40\n",
      "\u001b[1m33/33\u001b[0m \u001b[32m━━━━━━━━━━━━━━━━━━━━\u001b[0m\u001b[37m\u001b[0m \u001b[1m0s\u001b[0m 5ms/step - accuracy: 0.9721 - loss: 0.2181 - val_accuracy: 0.9655 - val_loss: 0.2050\n",
      "Epoch 5/40\n",
      "\u001b[1m33/33\u001b[0m \u001b[32m━━━━━━━━━━━━━━━━━━━━\u001b[0m\u001b[37m\u001b[0m \u001b[1m0s\u001b[0m 5ms/step - accuracy: 0.9767 - loss: 0.1813 - val_accuracy: 0.9720 - val_loss: 0.1790\n",
      "Epoch 6/40\n",
      "\u001b[1m33/33\u001b[0m \u001b[32m━━━━━━━━━━━━━━━━━━━━\u001b[0m\u001b[37m\u001b[0m \u001b[1m0s\u001b[0m 5ms/step - accuracy: 0.9840 - loss: 0.1549 - val_accuracy: 0.9734 - val_loss: 0.1599\n",
      "Epoch 7/40\n",
      "\u001b[1m33/33\u001b[0m \u001b[32m━━━━━━━━━━━━━━━━━━━━\u001b[0m\u001b[37m\u001b[0m \u001b[1m0s\u001b[0m 5ms/step - accuracy: 0.9856 - loss: 0.1351 - val_accuracy: 0.9756 - val_loss: 0.1453\n",
      "Epoch 8/40\n",
      "\u001b[1m33/33\u001b[0m \u001b[32m━━━━━━━━━━━━━━━━━━━━\u001b[0m\u001b[37m\u001b[0m \u001b[1m0s\u001b[0m 5ms/step - accuracy: 0.9861 - loss: 0.1196 - val_accuracy: 0.9756 - val_loss: 0.1339\n",
      "Epoch 9/40\n",
      "\u001b[1m33/33\u001b[0m \u001b[32m━━━━━━━━━━━━━━━━━━━━\u001b[0m\u001b[37m\u001b[0m \u001b[1m0s\u001b[0m 5ms/step - accuracy: 0.9883 - loss: 0.1073 - val_accuracy: 0.9763 - val_loss: 0.1248\n",
      "Epoch 10/40\n",
      "\u001b[1m33/33\u001b[0m \u001b[32m━━━━━━━━━━━━━━━━━━━━\u001b[0m\u001b[37m\u001b[0m \u001b[1m0s\u001b[0m 5ms/step - accuracy: 0.9892 - loss: 0.0972 - val_accuracy: 0.9777 - val_loss: 0.1174\n",
      "Epoch 11/40\n",
      "\u001b[1m33/33\u001b[0m \u001b[32m━━━━━━━━━━━━━━━━━━━━\u001b[0m\u001b[37m\u001b[0m \u001b[1m0s\u001b[0m 5ms/step - accuracy: 0.9907 - loss: 0.0888 - val_accuracy: 0.9785 - val_loss: 0.1113\n",
      "Epoch 12/40\n",
      "\u001b[1m33/33\u001b[0m \u001b[32m━━━━━━━━━━━━━━━━━━━━\u001b[0m\u001b[37m\u001b[0m \u001b[1m0s\u001b[0m 5ms/step - accuracy: 0.9929 - loss: 0.0818 - val_accuracy: 0.9785 - val_loss: 0.1061\n",
      "Epoch 13/40\n",
      "\u001b[1m33/33\u001b[0m \u001b[32m━━━━━━━━━━━━━━━━━━━━\u001b[0m\u001b[37m\u001b[0m \u001b[1m0s\u001b[0m 5ms/step - accuracy: 0.9929 - loss: 0.0757 - val_accuracy: 0.9777 - val_loss: 0.1017\n",
      "Epoch 14/40\n",
      "\u001b[1m33/33\u001b[0m \u001b[32m━━━━━━━━━━━━━━━━━━━━\u001b[0m\u001b[37m\u001b[0m \u001b[1m0s\u001b[0m 6ms/step - accuracy: 0.9930 - loss: 0.0704 - val_accuracy: 0.9785 - val_loss: 0.0980\n",
      "Epoch 15/40\n",
      "\u001b[1m33/33\u001b[0m \u001b[32m━━━━━━━━━━━━━━━━━━━━\u001b[0m\u001b[37m\u001b[0m \u001b[1m0s\u001b[0m 6ms/step - accuracy: 0.9930 - loss: 0.0658 - val_accuracy: 0.9785 - val_loss: 0.0947\n",
      "Epoch 16/40\n",
      "\u001b[1m33/33\u001b[0m \u001b[32m━━━━━━━━━━━━━━━━━━━━\u001b[0m\u001b[37m\u001b[0m \u001b[1m0s\u001b[0m 7ms/step - accuracy: 0.9930 - loss: 0.0618 - val_accuracy: 0.9785 - val_loss: 0.0919\n",
      "Epoch 17/40\n",
      "\u001b[1m33/33\u001b[0m \u001b[32m━━━━━━━━━━━━━━━━━━━━\u001b[0m\u001b[37m\u001b[0m \u001b[1m0s\u001b[0m 10ms/step - accuracy: 0.9930 - loss: 0.0581 - val_accuracy: 0.9792 - val_loss: 0.0894\n",
      "Epoch 18/40\n",
      "\u001b[1m33/33\u001b[0m \u001b[32m━━━━━━━━━━━━━━━━━━━━\u001b[0m\u001b[37m\u001b[0m \u001b[1m0s\u001b[0m 8ms/step - accuracy: 0.9934 - loss: 0.0549 - val_accuracy: 0.9799 - val_loss: 0.0873\n",
      "Epoch 19/40\n",
      "\u001b[1m33/33\u001b[0m \u001b[32m━━━━━━━━━━━━━━━━━━━━\u001b[0m\u001b[37m\u001b[0m \u001b[1m0s\u001b[0m 6ms/step - accuracy: 0.9938 - loss: 0.0519 - val_accuracy: 0.9799 - val_loss: 0.0853\n",
      "Epoch 20/40\n",
      "\u001b[1m33/33\u001b[0m \u001b[32m━━━━━━━━━━━━━━━━━━━━\u001b[0m\u001b[37m\u001b[0m \u001b[1m0s\u001b[0m 8ms/step - accuracy: 0.9938 - loss: 0.0493 - val_accuracy: 0.9799 - val_loss: 0.0836\n",
      "Epoch 21/40\n",
      "\u001b[1m33/33\u001b[0m \u001b[32m━━━━━━━━━━━━━━━━━━━━\u001b[0m\u001b[37m\u001b[0m \u001b[1m1s\u001b[0m 15ms/step - accuracy: 0.9938 - loss: 0.0469 - val_accuracy: 0.9799 - val_loss: 0.0821\n",
      "Epoch 22/40\n",
      "\u001b[1m33/33\u001b[0m \u001b[32m━━━━━━━━━━━━━━━━━━━━\u001b[0m\u001b[37m\u001b[0m \u001b[1m0s\u001b[0m 7ms/step - accuracy: 0.9941 - loss: 0.0446 - val_accuracy: 0.9799 - val_loss: 0.0807\n",
      "Epoch 23/40\n",
      "\u001b[1m33/33\u001b[0m \u001b[32m━━━━━━━━━━━━━━━━━━━━\u001b[0m\u001b[37m\u001b[0m \u001b[1m0s\u001b[0m 7ms/step - accuracy: 0.9958 - loss: 0.0426 - val_accuracy: 0.9799 - val_loss: 0.0795\n",
      "Epoch 24/40\n",
      "\u001b[1m33/33\u001b[0m \u001b[32m━━━━━━━━━━━━━━━━━━━━\u001b[0m\u001b[37m\u001b[0m \u001b[1m0s\u001b[0m 8ms/step - accuracy: 0.9958 - loss: 0.0407 - val_accuracy: 0.9799 - val_loss: 0.0784\n",
      "Epoch 25/40\n",
      "\u001b[1m33/33\u001b[0m \u001b[32m━━━━━━━━━━━━━━━━━━━━\u001b[0m\u001b[37m\u001b[0m \u001b[1m0s\u001b[0m 7ms/step - accuracy: 0.9958 - loss: 0.0390 - val_accuracy: 0.9799 - val_loss: 0.0773\n",
      "Epoch 26/40\n",
      "\u001b[1m33/33\u001b[0m \u001b[32m━━━━━━━━━━━━━━━━━━━━\u001b[0m\u001b[37m\u001b[0m \u001b[1m0s\u001b[0m 7ms/step - accuracy: 0.9958 - loss: 0.0374 - val_accuracy: 0.9799 - val_loss: 0.0764\n",
      "Epoch 27/40\n",
      "\u001b[1m33/33\u001b[0m \u001b[32m━━━━━━━━━━━━━━━━━━━━\u001b[0m\u001b[37m\u001b[0m \u001b[1m0s\u001b[0m 7ms/step - accuracy: 0.9958 - loss: 0.0359 - val_accuracy: 0.9799 - val_loss: 0.0756\n",
      "Epoch 28/40\n",
      "\u001b[1m33/33\u001b[0m \u001b[32m━━━━━━━━━━━━━━━━━━━━\u001b[0m\u001b[37m\u001b[0m \u001b[1m0s\u001b[0m 8ms/step - accuracy: 0.9958 - loss: 0.0344 - val_accuracy: 0.9799 - val_loss: 0.0749\n",
      "Epoch 29/40\n",
      "\u001b[1m33/33\u001b[0m \u001b[32m━━━━━━━━━━━━━━━━━━━━\u001b[0m\u001b[37m\u001b[0m \u001b[1m0s\u001b[0m 7ms/step - accuracy: 0.9958 - loss: 0.0331 - val_accuracy: 0.9799 - val_loss: 0.0742\n",
      "Epoch 30/40\n",
      "\u001b[1m33/33\u001b[0m \u001b[32m━━━━━━━━━━━━━━━━━━━━\u001b[0m\u001b[37m\u001b[0m \u001b[1m0s\u001b[0m 7ms/step - accuracy: 0.9962 - loss: 0.0319 - val_accuracy: 0.9806 - val_loss: 0.0735\n",
      "Epoch 31/40\n",
      "\u001b[1m33/33\u001b[0m \u001b[32m━━━━━━━━━━━━━━━━━━━━\u001b[0m\u001b[37m\u001b[0m \u001b[1m0s\u001b[0m 8ms/step - accuracy: 0.9962 - loss: 0.0307 - val_accuracy: 0.9806 - val_loss: 0.0730\n",
      "Epoch 32/40\n",
      "\u001b[1m33/33\u001b[0m \u001b[32m━━━━━━━━━━━━━━━━━━━━\u001b[0m\u001b[37m\u001b[0m \u001b[1m0s\u001b[0m 11ms/step - accuracy: 0.9965 - loss: 0.0296 - val_accuracy: 0.9806 - val_loss: 0.0725\n",
      "Epoch 33/40\n",
      "\u001b[1m33/33\u001b[0m \u001b[32m━━━━━━━━━━━━━━━━━━━━\u001b[0m\u001b[37m\u001b[0m \u001b[1m0s\u001b[0m 7ms/step - accuracy: 0.9965 - loss: 0.0286 - val_accuracy: 0.9806 - val_loss: 0.0720\n",
      "Epoch 34/40\n",
      "\u001b[1m33/33\u001b[0m \u001b[32m━━━━━━━━━━━━━━━━━━━━\u001b[0m\u001b[37m\u001b[0m \u001b[1m0s\u001b[0m 14ms/step - accuracy: 0.9965 - loss: 0.0276 - val_accuracy: 0.9806 - val_loss: 0.0716\n",
      "Epoch 35/40\n",
      "\u001b[1m33/33\u001b[0m \u001b[32m━━━━━━━━━━━━━━━━━━━━\u001b[0m\u001b[37m\u001b[0m \u001b[1m1s\u001b[0m 7ms/step - accuracy: 0.9975 - loss: 0.0267 - val_accuracy: 0.9806 - val_loss: 0.0712\n",
      "Epoch 36/40\n",
      "\u001b[1m33/33\u001b[0m \u001b[32m━━━━━━━━━━━━━━━━━━━━\u001b[0m\u001b[37m\u001b[0m \u001b[1m0s\u001b[0m 6ms/step - accuracy: 0.9975 - loss: 0.0258 - val_accuracy: 0.9806 - val_loss: 0.0708\n",
      "Epoch 37/40\n",
      "\u001b[1m33/33\u001b[0m \u001b[32m━━━━━━━━━━━━━━━━━━━━\u001b[0m\u001b[37m\u001b[0m \u001b[1m0s\u001b[0m 7ms/step - accuracy: 0.9975 - loss: 0.0250 - val_accuracy: 0.9806 - val_loss: 0.0705\n",
      "Epoch 38/40\n",
      "\u001b[1m33/33\u001b[0m \u001b[32m━━━━━━━━━━━━━━━━━━━━\u001b[0m\u001b[37m\u001b[0m \u001b[1m0s\u001b[0m 7ms/step - accuracy: 0.9976 - loss: 0.0242 - val_accuracy: 0.9806 - val_loss: 0.0702\n",
      "Epoch 39/40\n",
      "\u001b[1m33/33\u001b[0m \u001b[32m━━━━━━━━━━━━━━━━━━━━\u001b[0m\u001b[37m\u001b[0m \u001b[1m0s\u001b[0m 7ms/step - accuracy: 0.9976 - loss: 0.0235 - val_accuracy: 0.9806 - val_loss: 0.0699\n",
      "Epoch 40/40\n",
      "\u001b[1m33/33\u001b[0m \u001b[32m━━━━━━━━━━━━━━━━━━━━\u001b[0m\u001b[37m\u001b[0m \u001b[1m0s\u001b[0m 7ms/step - accuracy: 0.9977 - loss: 0.0227 - val_accuracy: 0.9806 - val_loss: 0.0697\n"
     ]
    }
   ],
   "source": [
    "model.compile(\n",
    "    loss = BinaryCrossentropy(from_logits=True),\n",
    "    optimizer = Adam(learning_rate=0.01),\n",
    "    metrics = ['accuracy']\n",
    ")\n",
    "r = model.fit(\n",
    "    X_train,Y_train,\n",
    "    validation_data = (X_test,Y_test),\n",
    "    epochs = 40,\n",
    "    batch_size = 128\n",
    ")"
   ]
  },
  {
   "cell_type": "code",
   "execution_count": 18,
   "metadata": {},
   "outputs": [
    {
     "data": {
      "text/plain": [
       "<matplotlib.legend.Legend at 0x2ddb49e5820>"
      ]
     },
     "execution_count": 18,
     "metadata": {},
     "output_type": "execute_result"
    },
    {
     "data": {
      "image/png": "[encoded data removed]",
      "text/plain": [
       "<Figure size 640x480 with 1 Axes>"
      ]
     },
     "metadata": {},
     "output_type": "display_data"
    }
   ],
   "source": [
    "# plot loss per iteration\n",
    "\n",
    "plt.plot(r.history['loss'],label = \"train loss\")\n",
    "plt.plot(r.history['val_loss'],label = \"validation loss\")\n",
    "plt.legend()"
   ]
  },
  {
   "cell_type": "code",
   "execution_count": 19,
   "metadata": {},
   "outputs": [
    {
     "name": "stdout",
     "output_type": "stream",
     "text": [
      "\u001b[1m131/131\u001b[0m \u001b[32m━━━━━━━━━━━━━━━━━━━━\u001b[0m\u001b[37m\u001b[0m \u001b[1m0s\u001b[0m 2ms/step\n",
      "\u001b[1m44/44\u001b[0m \u001b[32m━━━━━━━━━━━━━━━━━━━━\u001b[0m\u001b[37m\u001b[0m \u001b[1m0s\u001b[0m 6ms/step\n"
     ]
    },
    {
     "data": {
      "image/png": "[encoded data removed]",
      "text/plain": [
       "<Figure size 640x480 with 2 Axes>"
      ]
     },
     "metadata": {},
     "output_type": "display_data"
    }
   ],
   "source": [
    "P_train = ((model.predict(X_train) >0) *1.0).flatten()\n",
    "P_test = ((model.predict(X_test) >0) *1.0).flatten()\n",
    "\n",
    "cm = confusion_matrix(Y_train,P_train,normalize='true')\n",
    "\n",
    "# plot cm\n",
    "def plot_cm(cm):\n",
    "    classes = ['ham','spam']\n",
    "    df_cm = pd.DataFrame(cm,index=classes, columns=classes)\n",
    "    ax = sns.heatmap(df_cm,annot=True,fmt='g')\n",
    "    ax.set_xlabel(\"Predicted\")\n",
    "    ax.set_ylabel(\"Target\")\n",
    "\n",
    "plot_cm(cm)"
   ]
  },
  {
   "cell_type": "code",
   "execution_count": 20,
   "metadata": {},
   "outputs": [
    {
     "data": {
      "image/png": "[encoded data removed]",
      "text/plain": [
       "<Figure size 640x480 with 2 Axes>"
      ]
     },
     "metadata": {},
     "output_type": "display_data"
    }
   ],
   "source": [
    "cm_test = confusion_matrix(Y_test,P_test,normalize='true')\n",
    "plot_cm(cm_test)"
   ]
  },
  {
   "cell_type": "code",
   "execution_count": 21,
   "metadata": {},
   "outputs": [
    {
     "name": "stdout",
     "output_type": "stream",
     "text": [
      "\u001b[1m131/131\u001b[0m \u001b[32m━━━━━━━━━━━━━━━━━━━━\u001b[0m\u001b[37m\u001b[0m \u001b[1m0s\u001b[0m 2ms/step\n",
      "\u001b[1m44/44\u001b[0m \u001b[32m━━━━━━━━━━━━━━━━━━━━\u001b[0m\u001b[37m\u001b[0m \u001b[1m0s\u001b[0m 2ms/step\n",
      "Train AUC 0.9999394356995773\n",
      "Test AUC 0.9874859527314859\n"
     ]
    }
   ],
   "source": [
    "Pr_train = model.predict(X_train)\n",
    "Pr_test = model.predict(X_test)\n",
    "print(f\"Train AUC {roc_auc_score(Y_train,Pr_train)}\")\n",
    "print(f\"Test AUC {roc_auc_score(Y_test,Pr_test)}\")"
   ]
  },
  {
   "cell_type": "code",
   "execution_count": 22,
   "metadata": {},
   "outputs": [
    {
     "name": "stdout",
     "output_type": "stream",
     "text": [
      "Train F1 0.9977955359603197\n",
      "Test F1 0.9888934594816948\n"
     ]
    }
   ],
   "source": [
    "print(f\"Train F1 {f1_score(Y_train,P_train)}\")\n",
    "print(f\"Test F1 {f1_score(Y_test,P_test)}\")"
   ]
  },
  {
   "cell_type": "code",
   "execution_count": 23,
   "metadata": {},
   "outputs": [
    {
     "name": "stdout",
     "output_type": "stream",
     "text": [
      "sir [3.4768755]\n",
      "later [3.0270584]\n",
      "gt [2.9583085]\n",
      "mail [2.9242318]\n",
      "lt [2.8898127]\n",
      "me [2.8394437]\n",
      "ok [2.8103125]\n",
      "its [2.724036]\n",
      "happy [2.6624398]\n",
      "da [2.6588738]\n"
     ]
    }
   ],
   "source": [
    "w = model.layers[1].get_weights()\n",
    "word_index_map = vectorizer.vocabulary_\n",
    "\n",
    "# check weights for each word\n",
    "threshold = 2\n",
    "word_weight_tuples = []\n",
    "\n",
    "for word, index in word_index_map.items():\n",
    "    weight = w[0][index]\n",
    "    if weight > threshold:\n",
    "        word_weight_tuples.append((word,weight))\n",
    "\n",
    "word_weight_tuples = sorted(word_weight_tuples, key = lambda x: -x[1])\n",
    "\n",
    "# print top 10\n",
    "for i in range(10):\n",
    "    word,weight = word_weight_tuples[i]    \n",
    "    print(word,weight)\n",
    "        "
   ]
  },
  {
   "cell_type": "code",
   "execution_count": 24,
   "metadata": {},
   "outputs": [
    {
     "name": "stdout",
     "output_type": "stream",
     "text": [
      "txt [-4.8534174]\n",
      "text [-4.264804]\n",
      "stop [-4.2348647]\n",
      "50 [-4.229522]\n",
      "uk [-4.2107987]\n",
      "150p [-3.9588854]\n",
      "mobile [-3.9554]\n",
      "http [-3.922586]\n",
      "www [-3.7644713]\n",
      "free [-3.74903]\n"
     ]
    }
   ],
   "source": [
    "word_weight_tuples = []\n",
    "\n",
    "for word, index in word_index_map.items():\n",
    "    weight = w[0][index]\n",
    "    if weight <- threshold:\n",
    "        word_weight_tuples.append((word,weight))\n",
    "\n",
    "word_weight_tuples = sorted(word_weight_tuples, key = lambda x: x[1])\n",
    "\n",
    "# print top 10\n",
    "for i in range(10):\n",
    "    word,weight = word_weight_tuples[i]    \n",
    "    print(word,weight)"
   ]
  },
  {
   "cell_type": "code",
   "execution_count": null,
   "metadata": {},
   "outputs": [
    {
     "name": "stdout",
     "output_type": "stream",
     "text": [
      "\u001b[1m1/1\u001b[0m \u001b[32m━━━━━━━━━━━━━━━━━━━━\u001b[0m\u001b[37m\u001b[0m \u001b[1m0s\u001b[0m 59ms/step\n"
     ]
    },
    {
     "data": {
      "text/plain": [
       "array([[-5.5210667]], dtype=float32)"
      ]
     },
     "metadata": {},
     "output_type": "display_data"
    }
   ],
   "source": [
    "sample_text = [\"txt text stop\"]\n",
    "\n",
    "sample_tokenized = vectorizer.transform(sample_text)\n",
    "sample_tokenized = sample_tokenized.toarray()\n",
    "\n",
    "(model.predict(sample_tokenized))"
   ]
  }
 ],
 "metadata": {
  "kernelspec": {
   "display_name": "Python 3",
   "language": "python",
   "name": "python3"
  },
  "language_info": {
   "codemirror_mode": {
    "name": "ipython",
    "version": 3
   },
   "file_extension": ".py",
   "mimetype": "text/x-python",
   "name": "python",
   "nbconvert_exporter": "python",
   "pygments_lexer": "ipython3",
   "version": "3.12.1"
  }
 },
 "nbformat": 4,
 "nbformat_minor": 2
}
